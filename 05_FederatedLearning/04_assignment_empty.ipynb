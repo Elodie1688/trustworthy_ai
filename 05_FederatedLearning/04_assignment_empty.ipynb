{
 "cells": [
  {
   "cell_type": "markdown",
   "id": "bf816ca9",
   "metadata": {},
   "source": [
    "# Assignment 04\n",
    "\n",
    "### Deadline: March 13th 2024, 10:00 AM\n",
    "\n",
    "### Deliverables:\n",
    "Please submit, via Canvas, a **zip file** including the following:\n",
    "- a .ipynb file (you can use this one) with all of your code included -- `04_assignment_surname1_surname2.ipynb`\n",
    "- a compiled .html file of your .ipynb which includes all of the output -- `04_assignment_surname1_surname2.html`\n",
    "- a pdf file with your written answers to the questions -- `04_assignment_surname1_surname2.pdf`\n",
    "\n",
    "Make sure to follow the naming convention indicated above. The zip name can be named `04_assignment_surname1_surname2`.\n",
    "\n",
    "Make sure to annotate your code. We may substract points if code is not annotated and unclear.\n",
    "\n",
    "To be able to run this notebook, run the following commands in your virtual environment: \n",
    "```\n",
    "pip install pandas numpy scikit-learn matplotlib torch torchvision flwr-datasets\n",
    "\n",
    "pip install -U flwr[\"simulation\"]\n",
    "```\n",
    "\n",
    "If you get an error at the last step, try `pip install 'flwr[simulation]'` instead."
   ]
  },
  {
   "cell_type": "code",
   "execution_count": 1,
   "id": "de32b407",
   "metadata": {},
   "outputs": [],
   "source": [
    "import warnings\n",
    "warnings.filterwarnings(\"ignore\")\n",
    "import flwr as fl"
   ]
  },
  {
   "cell_type": "markdown",
   "id": "c9044eda",
   "metadata": {},
   "source": [
    "## 1. Federated Learning – Theory\n",
    "\n",
    "(10 points)\n",
    "\n",
    "**1.1** Identify and explain the core steps of Federated Learning.\n",
    "\n",
    "**1.2** In the learning process there are two types of evaluations that could be performed: (1) centralized evaluation and (2) federated evaluation. Explain both.\n",
    "\n",
    "\n",
    "## 2. Federated Learning – Application\n",
    "\n",
    "(20 points) \n",
    "\n",
    "**2.1** Follow this week's tutorial and perform federated learning on the 'cifar10' dataset. For this simulation, we want to implement the following: \n",
    "\n",
    "- Transform the data to tensors and normalize them. How did you choose the values for normalizing?\n",
    "- Define an appropriate model architecture for this dataset. The one we used for the mnist dataset in the tutorial will not work for this dataset.\n",
    "- Run the simulation with 100 clients.\n",
    "- Perform 40 rounds in this simulation.\n",
    "- Every client's local training should run through 2 epochs.\n",
    "- Each round, we want only 20% of the clients to update their model by training it locally.\n",
    "- Each round, we want to use 10% of the clients for federated evaluation.\n",
    "\n",
    "**2.2** Plot the accuracy scores per round for both centralized and federated evaluation. \n",
    "\n",
    "**2.3** Explain and describe the plot from Q2.2, and evaluate the simulation results."
   ]
  }
 ],
 "metadata": {
  "kernelspec": {
   "display_name": "week5_venv",
   "language": "python",
   "name": "week5_venv"
  },
  "language_info": {
   "codemirror_mode": {
    "name": "ipython",
    "version": 3
   },
   "file_extension": ".py",
   "mimetype": "text/x-python",
   "name": "python",
   "nbconvert_exporter": "python",
   "pygments_lexer": "ipython3",
   "version": "3.9.7"
  }
 },
 "nbformat": 4,
 "nbformat_minor": 5
}
