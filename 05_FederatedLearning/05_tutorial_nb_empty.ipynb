{
 "cells": [
  {
   "cell_type": "markdown",
   "id": "6c30de9a",
   "metadata": {},
   "source": [
    "# Week 05 – Federated Learning\n",
    "\n",
    "We are using `flwr`, a package for federated learning. You can find the documentation and examples here: https://flower.ai\n",
    "\n",
    "We follow the `flwr` tutorial provided here: https://colab.research.google.com/github/adap/flower/blob/main/examples/simulation-pytorch/sim.ipynb\n",
    "\n",
    "## set up\n",
    "\n",
    "```\n",
    "pip install pandas numpy scikit-learn matplotlib torch torchvision flwr-datasets\n",
    "\n",
    "pip install -U flwr[\"simulation\"]\n",
    "```"
   ]
  },
  {
   "cell_type": "code",
   "execution_count": 1,
   "id": "ccde8425",
   "metadata": {},
   "outputs": [],
   "source": [
    "import warnings\n",
    "warnings.filterwarnings(\"ignore\")\n",
    "import flwr as fl"
   ]
  },
  {
   "cell_type": "markdown",
   "id": "d2d39347",
   "metadata": {},
   "source": [
    "# The data\n",
    "\n",
    "### Load dataset from `flwr_datasets`\n",
    "\n",
    "In federated learning, each client has its own data partition. We can use the function `FederatedDataset` from `flwr_datasets` to load the data and create n partitions of it, where n is the number of clients."
   ]
  },
  {
   "cell_type": "code",
   "execution_count": 2,
   "id": "9fdf996a",
   "metadata": {},
   "outputs": [],
   "source": [
    "from datasets import Dataset\n",
    "from flwr_datasets import FederatedDataset\n",
    "\n",
    "# Let's set a simulation involving a total of 100 clients\n",
    "NUM_CLIENTS = 100\n",
    "\n",
    "# Download MNIST dataset and partition the \"train\" partition (so one can be assigned to each client)\n",
    "mnist_fds = FederatedDataset(dataset=\"mnist\", partitioners={\"train\": NUM_CLIENTS})\n",
    "# Let's keep the test set as is, and use it to evaluate the global model on the server\n",
    "centralized_testset = mnist_fds.load_full(\"test\")"
   ]
  },
  {
   "cell_type": "markdown",
   "id": "f2d7d85c",
   "metadata": {},
   "source": [
    "#### Q: What is the `centralized_testset` used for?\n",
    "\n",
    "...\n",
    "\n",
    "#### Q: What does `NUM_CLIENTS = 100` mean?\n",
    "\n",
    "..."
   ]
  },
  {
   "cell_type": "markdown",
   "id": "a194bbbb",
   "metadata": {},
   "source": [
    "### Define function to transform data"
   ]
  },
  {
   "cell_type": "code",
   "execution_count": 3,
   "id": "b7fd3905",
   "metadata": {},
   "outputs": [],
   "source": [
    "from torchvision.transforms import ToTensor, Normalize, Compose\n",
    "\n",
    "def apply_transforms(batch):\n",
    "    \"\"\"Get transformation for MNIST dataset\"\"\"\n",
    "\n",
    "    # transformation to convert images to tensors and apply normalization\n",
    "    transforms = Compose([ToTensor(), Normalize((0.1307,), (0.3081,))])\n",
    "    batch[\"image\"] = [transforms(img) for img in batch[\"image\"]]\n",
    "    return batch"
   ]
  },
  {
   "cell_type": "markdown",
   "id": "156c3cc7",
   "metadata": {},
   "source": [
    "# The model\n",
    "\n",
    "### Define the model architecture"
   ]
  },
  {
   "cell_type": "code",
   "execution_count": 4,
   "id": "714b2c61",
   "metadata": {},
   "outputs": [],
   "source": [
    "import torch\n",
    "import torch.nn as nn\n",
    "import torch.nn.functional as F\n",
    "from torch.utils.data import DataLoader\n",
    "\n",
    "\n",
    "class Net(nn.Module):\n",
    "    def __init__(self, num_classes: int) -> None:\n",
    "        super(Net, self).__init__()\n",
    "        self.conv1 = nn.Conv2d(1, 6, 5)\n",
    "        self.pool = nn.MaxPool2d(2, 2)\n",
    "        self.conv2 = nn.Conv2d(6, 16, 5)\n",
    "        self.fc1 = nn.Linear(16 * 4 * 4, 120)\n",
    "        self.fc2 = nn.Linear(120, 84)\n",
    "        self.fc3 = nn.Linear(84, num_classes)\n",
    "\n",
    "    def forward(self, x: torch.Tensor) -> torch.Tensor:\n",
    "        x = self.pool(F.relu(self.conv1(x)))\n",
    "        x = self.pool(F.relu(self.conv2(x)))\n",
    "        x = x.view(-1, 16 * 4 * 4)\n",
    "        x = F.relu(self.fc1(x))\n",
    "        x = F.relu(self.fc2(x))\n",
    "        x = self.fc3(x)\n",
    "        return x"
   ]
  },
  {
   "cell_type": "markdown",
   "id": "76929c5c",
   "metadata": {},
   "source": [
    "#### Q: How many layers does this network have? \n",
    "\n",
    "..."
   ]
  },
  {
   "cell_type": "markdown",
   "id": "29a87d7f",
   "metadata": {},
   "source": [
    "### Define functions to train model\n",
    "\n",
    "These functions will be needed later on by each client when they fit the model locally on their data."
   ]
  },
  {
   "cell_type": "code",
   "execution_count": 5,
   "id": "298c7b13",
   "metadata": {},
   "outputs": [],
   "source": [
    "def train(net, trainloader, optim, epochs, device: str):\n",
    "    \"\"\"Train the network on the training set.\"\"\"\n",
    "    criterion = torch.nn.CrossEntropyLoss()\n",
    "    net.train()\n",
    "    for _ in range(epochs):\n",
    "        for batch in trainloader:\n",
    "            images, labels = batch[\"image\"].to(device), batch[\"label\"].to(device)\n",
    "            optim.zero_grad()\n",
    "            loss = criterion(net(images), labels)\n",
    "            loss.backward()\n",
    "            optim.step()\n",
    "\n",
    "\n",
    "def test(net, testloader, device: str):\n",
    "    \"\"\"Validate the network on the entire test set.\"\"\"\n",
    "    criterion = torch.nn.CrossEntropyLoss()\n",
    "    correct, loss = 0, 0.0\n",
    "    net.eval()\n",
    "    with torch.no_grad():\n",
    "        for data in testloader:\n",
    "            images, labels = data[\"image\"].to(device), data[\"label\"].to(device)\n",
    "            outputs = net(images)\n",
    "            loss += criterion(outputs, labels).item()\n",
    "            _, predicted = torch.max(outputs.data, 1)\n",
    "            correct += (predicted == labels).sum().item()\n",
    "    accuracy = correct / len(testloader.dataset)\n",
    "    return loss, accuracy"
   ]
  },
  {
   "cell_type": "markdown",
   "id": "9a75035e",
   "metadata": {},
   "source": [
    "# The client\n",
    "\n",
    "In federated learning we have multiple clients that each own some data and train a model locally with this data. \n",
    "\n",
    "\n",
    "### Defining the Flower Client \n",
    "\n",
    "A Flower Client is a simple Python class with four distinct methods:\n",
    "\n",
    "* `fit()`: With this method, the client does on-device training for a number of epochs using its own data. \n",
    "\n",
    "* `evaluate()`: With this method, the server can evaluate the performance of the global model on the local validation set of a client. \n",
    "\n",
    "* `set_parameters()`: This method takes the parameters sent by the server and uses them to initialise the parameters of the local model that is ML framework specific (e.g. TF, Pytorch, etc).\n",
    "\n",
    "* `get_parameters()`: It extract the parameters from the local model and transforms them into a list of NumPy arrays. This ML framework-agnostic representation of the model will be sent to the server."
   ]
  },
  {
   "cell_type": "code",
   "execution_count": 6,
   "id": "c98c6966",
   "metadata": {},
   "outputs": [],
   "source": [
    "from collections import OrderedDict\n",
    "from typing import Dict, List, Tuple\n",
    "\n",
    "from flwr.common import NDArrays, Scalar\n",
    "\n",
    "\n",
    "class FlowerClient(fl.client.NumPyClient):\n",
    "    def __init__(self, trainloader, valloader) -> None:\n",
    "        super().__init__()\n",
    "\n",
    "        self.trainloader = trainloader\n",
    "        self.valloader = valloader\n",
    "        self.model = Net(num_classes=10)\n",
    "        # Determine device\n",
    "        self.device = torch.device(\"cuda:0\" if torch.cuda.is_available() else \"cpu\")\n",
    "        self.model.to(self.device)  # send model to device\n",
    "\n",
    "    def set_parameters(self, parameters):\n",
    "        \"\"\"With the model parameters received from the server,\n",
    "        overwrite the uninitialise model in this class with them.\"\"\"\n",
    "\n",
    "        params_dict = zip(self.model.state_dict().keys(), parameters)\n",
    "        state_dict = OrderedDict({k: torch.Tensor(v) for k, v in params_dict})\n",
    "        # now replace the parameters\n",
    "        self.model.load_state_dict(state_dict, strict=True)\n",
    "\n",
    "    def get_parameters(self, config: Dict[str, Scalar]):\n",
    "        \"\"\"Extract all model parameters and conver them to a list of\n",
    "        NumPy arryas. The server doesn't work with PyTorch/TF/etc.\"\"\"\n",
    "        return [val.cpu().numpy() for _, val in self.model.state_dict().items()]\n",
    "\n",
    "    def fit(self, parameters, config):\n",
    "        \"\"\"This method train the model using the parameters sent by the\n",
    "        server on the dataset of this client. At then end, the parameters\n",
    "        of the locally trained model are communicated back to the server\"\"\"\n",
    "\n",
    "        # copy parameters sent by the server into client's local model\n",
    "        self.set_parameters(parameters)\n",
    "\n",
    "        # read from config\n",
    "        lr, epochs = config[\"lr\"], config[\"epochs\"]\n",
    "\n",
    "        # Define the optimizer\n",
    "        optim = torch.optim.SGD(self.model.parameters(), lr=lr, momentum=0.9)\n",
    "\n",
    "        # do local training\n",
    "        train(self.model, self.trainloader, optim, epochs=epochs, device=self.device)\n",
    "\n",
    "        # return the model parameters to the server as well as extra info (number of training examples in this case)\n",
    "        return self.get_parameters({}), len(self.trainloader), {}\n",
    "\n",
    "    def evaluate(self, parameters: NDArrays, config: Dict[str, Scalar]):\n",
    "        \"\"\"Evaluate the model sent by the server on this client's\n",
    "        local validation set. Then return performance metrics.\"\"\"\n",
    "\n",
    "        self.set_parameters(parameters)\n",
    "        loss, accuracy = test(self.model, self.valloader, device=self.device)\n",
    "        # send statistics back to the server\n",
    "        return float(loss), len(self.valloader), {\"accuracy\": accuracy}"
   ]
  },
  {
   "cell_type": "markdown",
   "id": "af277c61",
   "metadata": {},
   "source": [
    "### Assigning partition of the data to a client"
   ]
  },
  {
   "cell_type": "code",
   "execution_count": 7,
   "id": "eace06c0",
   "metadata": {},
   "outputs": [],
   "source": [
    "from torch.utils.data import DataLoader\n",
    "\n",
    "def get_client_fn(dataset: FederatedDataset):\n",
    "    \"\"\"Return a function to construct a client.\n",
    "\n",
    "    The VirtualClientEngine will execute this function whenever a client is sampled by\n",
    "    the strategy to participate.\n",
    "    \"\"\"\n",
    "\n",
    "    def client_fn(cid: str) -> fl.client.Client:\n",
    "        \"\"\"Construct a FlowerClient with its own dataset partition.\"\"\"\n",
    "\n",
    "        # Let's get the partition corresponding to the i-th client\n",
    "        client_dataset = dataset.load_partition(int(cid), \"train\")\n",
    "\n",
    "        # Now let's split it into train (90%) and validation (10%)\n",
    "        client_dataset_splits = client_dataset.train_test_split(test_size=0.1)\n",
    "\n",
    "        trainset = client_dataset_splits[\"train\"]\n",
    "        valset = client_dataset_splits[\"test\"]\n",
    "\n",
    "        # Now we apply the transform to each batch.\n",
    "        trainloader = DataLoader(\n",
    "            trainset.with_transform(apply_transforms), batch_size=32, shuffle=True\n",
    "        )\n",
    "        valloader = DataLoader(valset.with_transform(apply_transforms), batch_size=32)\n",
    "\n",
    "        # Create and return client\n",
    "        return FlowerClient(trainloader, valloader).to_client()\n",
    "\n",
    "    return client_fn\n",
    "\n",
    "\n",
    "client_fn_callback = get_client_fn(mnist_fds)"
   ]
  },
  {
   "cell_type": "markdown",
   "id": "98c621b5",
   "metadata": {},
   "source": [
    "## Aggregation strategy – Federated Averaging\n",
    "\n",
    "\n",
    "The core steps of federated learning are sampling clients, sending the global model to the clients so they can run `fit()` locally on their training data, receive updated models from each client, aggregate these models to construct a new global model, evaluate model.\n",
    "\n",
    "There are different ways to aggregate all the model updates received from the clients. The probably most well-known is _federated averaging_, see the paper by [McMahan et al. (2016)](https://arxiv.org/abs/1602.05629) for more details.\n",
    "\n",
    "We need to define the strategy used for aggregation in `flwr`.\n",
    "\n",
    "### Function to evaluate on centralized test set"
   ]
  },
  {
   "cell_type": "code",
   "execution_count": 8,
   "id": "ffbacb7a",
   "metadata": {},
   "outputs": [],
   "source": [
    "def get_evaluate_fn(centralized_testset: Dataset):\n",
    "    \"\"\"This is a function that returns a function. The returned function (i.e. `evaluate_fn`) will be \n",
    "    executed by the strategy at the end of each round to evaluate the state of the global model.\"\"\"\n",
    "\n",
    "    def evaluate_fn(server_round: int, parameters, config):\n",
    "        \"\"\"This function is executed by the strategy it will instantiate a model and replace its \n",
    "        parameters with those from the global model. Then, the model will be evaluate on the test\n",
    "        set (recall this is the whole MNIST test set).\"\"\"\n",
    "\n",
    "        model = Net(num_classes=10)\n",
    "\n",
    "        # Determine device\n",
    "        device = torch.device(\"cuda:0\" if torch.cuda.is_available() else \"cpu\")\n",
    "        model.to(device)  # send model to device\n",
    "\n",
    "        # set parameters to the model\n",
    "        params_dict = zip(model.state_dict().keys(), parameters)\n",
    "        state_dict = OrderedDict({k: torch.Tensor(v) for k, v in params_dict})\n",
    "        model.load_state_dict(state_dict, strict=True)\n",
    "\n",
    "        # Apply transform to dataset\n",
    "        testset = centralized_testset.with_transform(apply_transforms)\n",
    "\n",
    "        testloader = DataLoader(testset, batch_size=50)\n",
    "        # call test\n",
    "        loss, accuracy = test(model, testloader, device)\n",
    "        return loss, {\"accuracy\": accuracy}\n",
    "\n",
    "    return evaluate_fn"
   ]
  },
  {
   "cell_type": "markdown",
   "id": "ac075a1d",
   "metadata": {},
   "source": [
    "### Extra functionality\n",
    "\n",
    "We are writing two functions – (1) `fit_config()` where we can configure how clients do local training (we can specify nr of epochs, learning rate, etc.), and (2) `weighted_average()` which aggregates the performance metrics (accuracy in this case) that the clients return."
   ]
  },
  {
   "cell_type": "code",
   "execution_count": 9,
   "id": "eaa86ed6",
   "metadata": {},
   "outputs": [],
   "source": [
    "from flwr.common import Metrics\n",
    "\n",
    "def fit_config(server_round: int) -> Dict[str, Scalar]:\n",
    "    \"\"\"Return a configuration with static batch size and (local) epochs.\"\"\"\n",
    "    config = {\n",
    "        \"epochs\": 1,  # Number of local epochs done by clients\n",
    "        \"lr\": 0.01,  # Learning rate to use by clients during fit()\n",
    "    }\n",
    "    return config\n",
    "\n",
    "\n",
    "def weighted_average(metrics: List[Tuple[int, Metrics]]) -> Metrics:\n",
    "    \"\"\"Aggregation function for (federated) evaluation metrics, i.e. those returned by\n",
    "    the client's evaluate() method.\"\"\"\n",
    "    # Multiply accuracy of each client by number of examples used\n",
    "    accuracies = [num_examples * m[\"accuracy\"] for num_examples, m in metrics]\n",
    "    examples = [num_examples for num_examples, _ in metrics]\n",
    "\n",
    "    # Aggregate and return custom metric (weighted average)\n",
    "    return {\"accuracy\": sum(accuracies) / sum(examples)}"
   ]
  },
  {
   "cell_type": "markdown",
   "id": "36f3cee2",
   "metadata": {},
   "source": [
    "### Define strategy\n",
    "\n",
    "Using these functions, we can define the strategy."
   ]
  },
  {
   "cell_type": "code",
   "execution_count": 10,
   "id": "b31c59f1",
   "metadata": {},
   "outputs": [],
   "source": [
    "strategy = fl.server.strategy.FedAvg(\n",
    "    fraction_fit=0.1,  # Sample 10% of available clients for training\n",
    "    fraction_evaluate=0.05,  # Sample 5% of available clients for evaluation\n",
    "    on_fit_config_fn=fit_config,\n",
    "    evaluate_metrics_aggregation_fn=weighted_average,  # aggregates federated metrics\n",
    "    evaluate_fn=get_evaluate_fn(centralized_testset),  # global evaluation function\n",
    ")"
   ]
  },
  {
   "cell_type": "markdown",
   "id": "91133855",
   "metadata": {},
   "source": [
    "# Run simulation"
   ]
  },
  {
   "cell_type": "code",
   "execution_count": 11,
   "id": "d1eb6d9c",
   "metadata": {},
   "outputs": [
    {
     "name": "stderr",
     "output_type": "stream",
     "text": [
      "INFO flwr 2024-03-05 22:23:43,332 | app.py:178 | Starting Flower simulation, config: ServerConfig(num_rounds=10, round_timeout=None)\n",
      "2024-03-05 22:23:45,427\tINFO worker.py:1621 -- Started a local Ray instance.\n",
      "INFO flwr 2024-03-05 22:23:46,344 | app.py:213 | Flower VCE: Ray initialized with resources: {'memory': 11170351514.0, 'CPU': 8.0, 'node:__internal_head__': 1.0, 'object_store_memory': 2147483648.0, 'node:127.0.0.1': 1.0}\n",
      "INFO flwr 2024-03-05 22:23:46,345 | app.py:219 | Optimize your simulation with Flower VCE: https://flower.dev/docs/framework/how-to-run-simulations.html\n",
      "INFO flwr 2024-03-05 22:23:46,345 | app.py:242 | Flower VCE: Resources for each Virtual Client: {'num_cpus': 1, 'num_gpus': 0.0}\n",
      "INFO flwr 2024-03-05 22:23:46,358 | app.py:288 | Flower VCE: Creating VirtualClientEngineActorPool with 8 actors\n",
      "INFO flwr 2024-03-05 22:23:46,359 | server.py:89 | Initializing global parameters\n",
      "INFO flwr 2024-03-05 22:23:46,359 | server.py:276 | Requesting initial parameters from one random client\n",
      "INFO flwr 2024-03-05 22:23:49,502 | server.py:280 | Received initial parameters from one random client\n",
      "INFO flwr 2024-03-05 22:23:49,503 | server.py:91 | Evaluating initial parameters\n",
      "INFO flwr 2024-03-05 22:23:51,801 | server.py:94 | initial parameters (loss, other metrics): 461.7775602340698, {'accuracy': 0.1332}\n",
      "INFO flwr 2024-03-05 22:23:51,802 | server.py:104 | FL starting\n",
      "DEBUG flwr 2024-03-05 22:23:51,802 | server.py:222 | fit_round 1: strategy sampled 10 clients (out of 100)\n",
      "DEBUG flwr 2024-03-05 22:23:54,854 | server.py:236 | fit_round 1 received 10 results and 0 failures\n",
      "WARNING flwr 2024-03-05 22:23:54,860 | fedavg.py:250 | No fit_metrics_aggregation_fn provided\n",
      "\u001b[2m\u001b[33m(raylet)\u001b[0m [2024-03-05 22:23:55,339 E 40801 36740920] (raylet) file_system_monitor.cc:111: /tmp/ray/session_2024-03-05_22-23-43_382021_40787 is over 95% full, available space: 6019284992; capacity: 494384795648. Object creation will fail if spilling is required.\n",
      "INFO flwr 2024-03-05 22:23:57,037 | server.py:125 | fit progress: (1, 457.5602195262909, {'accuracy': 0.2822}, 5.234762499999999)\n",
      "DEBUG flwr 2024-03-05 22:23:57,038 | server.py:173 | evaluate_round 1: strategy sampled 5 clients (out of 100)\n",
      "DEBUG flwr 2024-03-05 22:23:57,116 | server.py:187 | evaluate_round 1 received 5 results and 0 failures\n",
      "DEBUG flwr 2024-03-05 22:23:57,116 | server.py:222 | fit_round 2: strategy sampled 10 clients (out of 100)\n",
      "DEBUG flwr 2024-03-05 22:23:57,721 | server.py:236 | fit_round 2 received 10 results and 0 failures\n",
      "INFO flwr 2024-03-05 22:23:59,879 | server.py:125 | fit progress: (2, 451.8089544773102, {'accuracy': 0.259}, 8.076825541999998)\n",
      "DEBUG flwr 2024-03-05 22:23:59,880 | server.py:173 | evaluate_round 2: strategy sampled 5 clients (out of 100)\n",
      "DEBUG flwr 2024-03-05 22:23:59,958 | server.py:187 | evaluate_round 2 received 5 results and 0 failures\n",
      "DEBUG flwr 2024-03-05 22:23:59,959 | server.py:222 | fit_round 3: strategy sampled 10 clients (out of 100)\n",
      "DEBUG flwr 2024-03-05 22:24:00,444 | server.py:236 | fit_round 3 received 10 results and 0 failures\n",
      "INFO flwr 2024-03-05 22:24:02,635 | server.py:125 | fit progress: (3, 434.7181439399719, {'accuracy': 0.2855}, 10.832304832999998)\n",
      "DEBUG flwr 2024-03-05 22:24:02,635 | server.py:173 | evaluate_round 3: strategy sampled 5 clients (out of 100)\n",
      "DEBUG flwr 2024-03-05 22:24:02,716 | server.py:187 | evaluate_round 3 received 5 results and 0 failures\n",
      "DEBUG flwr 2024-03-05 22:24:02,717 | server.py:222 | fit_round 4: strategy sampled 10 clients (out of 100)\n",
      "DEBUG flwr 2024-03-05 22:24:03,208 | server.py:236 | fit_round 4 received 10 results and 0 failures\n",
      "INFO flwr 2024-03-05 22:24:05,319 | server.py:125 | fit progress: (4, 355.34768557548523, {'accuracy': 0.5453}, 13.51686075)\n",
      "DEBUG flwr 2024-03-05 22:24:05,320 | server.py:173 | evaluate_round 4: strategy sampled 5 clients (out of 100)\n",
      "DEBUG flwr 2024-03-05 22:24:05,396 | server.py:187 | evaluate_round 4 received 5 results and 0 failures\n",
      "DEBUG flwr 2024-03-05 22:24:05,397 | server.py:222 | fit_round 5: strategy sampled 10 clients (out of 100)\n",
      "\u001b[2m\u001b[33m(raylet)\u001b[0m [2024-03-05 22:24:05,435 E 40801 36740920] (raylet) file_system_monitor.cc:111: /tmp/ray/session_2024-03-05_22-23-43_382021_40787 is over 95% full, available space: 6017933312; capacity: 494384795648. Object creation will fail if spilling is required.\n",
      "DEBUG flwr 2024-03-05 22:24:05,873 | server.py:236 | fit_round 5 received 10 results and 0 failures\n",
      "INFO flwr 2024-03-05 22:24:08,053 | server.py:125 | fit progress: (5, 164.14327627420425, {'accuracy': 0.7559}, 16.251268417)\n",
      "DEBUG flwr 2024-03-05 22:24:08,054 | server.py:173 | evaluate_round 5: strategy sampled 5 clients (out of 100)\n",
      "DEBUG flwr 2024-03-05 22:24:08,130 | server.py:187 | evaluate_round 5 received 5 results and 0 failures\n",
      "DEBUG flwr 2024-03-05 22:24:08,131 | server.py:222 | fit_round 6: strategy sampled 10 clients (out of 100)\n",
      "DEBUG flwr 2024-03-05 22:24:08,615 | server.py:236 | fit_round 6 received 10 results and 0 failures\n",
      "INFO flwr 2024-03-05 22:24:12,566 | server.py:125 | fit progress: (6, 148.0687454044819, {'accuracy': 0.7935}, 20.763847333)\n",
      "DEBUG flwr 2024-03-05 22:24:12,568 | server.py:173 | evaluate_round 6: strategy sampled 5 clients (out of 100)\n",
      "DEBUG flwr 2024-03-05 22:24:12,648 | server.py:187 | evaluate_round 6 received 5 results and 0 failures\n",
      "DEBUG flwr 2024-03-05 22:24:12,648 | server.py:222 | fit_round 7: strategy sampled 10 clients (out of 100)\n",
      "DEBUG flwr 2024-03-05 22:24:13,160 | server.py:236 | fit_round 7 received 10 results and 0 failures\n",
      "\u001b[2m\u001b[33m(raylet)\u001b[0m [2024-03-05 22:24:15,448 E 40801 36740920] (raylet) file_system_monitor.cc:111: /tmp/ray/session_2024-03-05_22-23-43_382021_40787 is over 95% full, available space: 6010859520; capacity: 494384795648. Object creation will fail if spilling is required.\n",
      "INFO flwr 2024-03-05 22:24:16,074 | server.py:125 | fit progress: (7, 107.57243171334267, {'accuracy': 0.8331}, 24.271919957999998)\n",
      "DEBUG flwr 2024-03-05 22:24:16,075 | server.py:173 | evaluate_round 7: strategy sampled 5 clients (out of 100)\n",
      "DEBUG flwr 2024-03-05 22:24:16,150 | server.py:187 | evaluate_round 7 received 5 results and 0 failures\n",
      "DEBUG flwr 2024-03-05 22:24:16,151 | server.py:222 | fit_round 8: strategy sampled 10 clients (out of 100)\n",
      "DEBUG flwr 2024-03-05 22:24:16,631 | server.py:236 | fit_round 8 received 10 results and 0 failures\n",
      "INFO flwr 2024-03-05 22:24:18,887 | server.py:125 | fit progress: (8, 82.01676574349403, {'accuracy': 0.8803}, 27.084906083)\n",
      "DEBUG flwr 2024-03-05 22:24:18,888 | server.py:173 | evaluate_round 8: strategy sampled 5 clients (out of 100)\n",
      "DEBUG flwr 2024-03-05 22:24:18,964 | server.py:187 | evaluate_round 8 received 5 results and 0 failures\n",
      "DEBUG flwr 2024-03-05 22:24:18,965 | server.py:222 | fit_round 9: strategy sampled 10 clients (out of 100)\n",
      "DEBUG flwr 2024-03-05 22:24:19,446 | server.py:236 | fit_round 9 received 10 results and 0 failures\n",
      "INFO flwr 2024-03-05 22:24:21,589 | server.py:125 | fit progress: (9, 67.3464150801301, {'accuracy': 0.9041}, 29.786848792)\n",
      "DEBUG flwr 2024-03-05 22:24:21,590 | server.py:173 | evaluate_round 9: strategy sampled 5 clients (out of 100)\n",
      "DEBUG flwr 2024-03-05 22:24:21,666 | server.py:187 | evaluate_round 9 received 5 results and 0 failures\n",
      "DEBUG flwr 2024-03-05 22:24:21,666 | server.py:222 | fit_round 10: strategy sampled 10 clients (out of 100)\n",
      "DEBUG flwr 2024-03-05 22:24:22,150 | server.py:236 | fit_round 10 received 10 results and 0 failures\n",
      "INFO flwr 2024-03-05 22:24:24,327 | server.py:125 | fit progress: (10, 67.30665655434132, {'accuracy': 0.8969}, 32.524590542)\n",
      "DEBUG flwr 2024-03-05 22:24:24,328 | server.py:173 | evaluate_round 10: strategy sampled 5 clients (out of 100)\n",
      "DEBUG flwr 2024-03-05 22:24:24,405 | server.py:187 | evaluate_round 10 received 5 results and 0 failures\n",
      "INFO flwr 2024-03-05 22:24:24,406 | server.py:153 | FL finished in 32.603703333\n",
      "INFO flwr 2024-03-05 22:24:24,407 | app.py:226 | app_fit: losses_distributed [(1, 4.569272851943969), (2, 4.497961854934692), (3, 4.3478169441223145), (4, 3.652865433692932), (5, 1.6190158486366273), (6, 1.6988038063049316), (7, 0.9724674105644227), (8, 0.8109480381011963), (9, 0.776947146654129), (10, 0.6489468157291413)]\n"
     ]
    },
    {
     "name": "stderr",
     "output_type": "stream",
     "text": [
      "INFO flwr 2024-03-05 22:24:24,407 | app.py:227 | app_fit: metrics_distributed_fit {}\n",
      "INFO flwr 2024-03-05 22:24:24,408 | app.py:228 | app_fit: metrics_distributed {'accuracy': [(1, 0.30333333333333334), (2, 0.2833333333333333), (3, 0.28666666666666674), (4, 0.49333333333333335), (5, 0.7633333333333333), (6, 0.76), (7, 0.85), (8, 0.9), (9, 0.8866666666666667), (10, 0.9099999999999999)]}\n",
      "INFO flwr 2024-03-05 22:24:24,408 | app.py:229 | app_fit: losses_centralized [(0, 461.7775602340698), (1, 457.5602195262909), (2, 451.8089544773102), (3, 434.7181439399719), (4, 355.34768557548523), (5, 164.14327627420425), (6, 148.0687454044819), (7, 107.57243171334267), (8, 82.01676574349403), (9, 67.3464150801301), (10, 67.30665655434132)]\n",
      "INFO flwr 2024-03-05 22:24:24,408 | app.py:230 | app_fit: metrics_centralized {'accuracy': [(0, 0.1332), (1, 0.2822), (2, 0.259), (3, 0.2855), (4, 0.5453), (5, 0.7559), (6, 0.7935), (7, 0.8331), (8, 0.8803), (9, 0.9041), (10, 0.8969)]}\n",
      "\u001b[2m\u001b[33m(raylet)\u001b[0m [2024-03-05 22:24:25,452 E 40801 36740920] (raylet) file_system_monitor.cc:111: /tmp/ray/session_2024-03-05_22-23-43_382021_40787 is over 95% full, available space: 6009282560; capacity: 494384795648. Object creation will fail if spilling is required.\n",
      "\u001b[2m\u001b[33m(raylet)\u001b[0m [2024-03-05 22:24:35,480 E 40801 36740920] (raylet) file_system_monitor.cc:111: /tmp/ray/session_2024-03-05_22-23-43_382021_40787 is over 95% full, available space: 6011330560; capacity: 494384795648. Object creation will fail if spilling is required.\n",
      "\u001b[2m\u001b[33m(raylet)\u001b[0m [2024-03-05 22:24:45,539 E 40801 36740920] (raylet) file_system_monitor.cc:111: /tmp/ray/session_2024-03-05_22-23-43_382021_40787 is over 95% full, available space: 6009143296; capacity: 494384795648. Object creation will fail if spilling is required.\n",
      "\u001b[2m\u001b[33m(raylet)\u001b[0m [2024-03-05 22:24:55,569 E 40801 36740920] (raylet) file_system_monitor.cc:111: /tmp/ray/session_2024-03-05_22-23-43_382021_40787 is over 95% full, available space: 6008176640; capacity: 494384795648. Object creation will fail if spilling is required.\n",
      "\u001b[2m\u001b[33m(raylet)\u001b[0m [2024-03-05 22:25:05,608 E 40801 36740920] (raylet) file_system_monitor.cc:111: /tmp/ray/session_2024-03-05_22-23-43_382021_40787 is over 95% full, available space: 6011318272; capacity: 494384795648. Object creation will fail if spilling is required.\n",
      "\u001b[2m\u001b[33m(raylet)\u001b[0m [2024-03-05 22:25:15,639 E 40801 36740920] (raylet) file_system_monitor.cc:111: /tmp/ray/session_2024-03-05_22-23-43_382021_40787 is over 95% full, available space: 6010417152; capacity: 494384795648. Object creation will fail if spilling is required.\n",
      "\u001b[2m\u001b[33m(raylet)\u001b[0m [2024-03-05 22:25:25,657 E 40801 36740920] (raylet) file_system_monitor.cc:111: /tmp/ray/session_2024-03-05_22-23-43_382021_40787 is over 95% full, available space: 6009974784; capacity: 494384795648. Object creation will fail if spilling is required.\n",
      "\u001b[2m\u001b[33m(raylet)\u001b[0m [2024-03-05 22:25:35,664 E 40801 36740920] (raylet) file_system_monitor.cc:111: /tmp/ray/session_2024-03-05_22-23-43_382021_40787 is over 95% full, available space: 6009352192; capacity: 494384795648. Object creation will fail if spilling is required.\n",
      "\u001b[2m\u001b[33m(raylet)\u001b[0m [2024-03-05 22:25:45,705 E 40801 36740920] (raylet) file_system_monitor.cc:111: /tmp/ray/session_2024-03-05_22-23-43_382021_40787 is over 95% full, available space: 6008115200; capacity: 494384795648. Object creation will fail if spilling is required.\n",
      "\u001b[2m\u001b[33m(raylet)\u001b[0m [2024-03-05 22:25:55,721 E 40801 36740920] (raylet) file_system_monitor.cc:111: /tmp/ray/session_2024-03-05_22-23-43_382021_40787 is over 95% full, available space: 6007607296; capacity: 494384795648. Object creation will fail if spilling is required.\n",
      "\u001b[2m\u001b[33m(raylet)\u001b[0m [2024-03-05 22:26:05,782 E 40801 36740920] (raylet) file_system_monitor.cc:111: /tmp/ray/session_2024-03-05_22-23-43_382021_40787 is over 95% full, available space: 6006771712; capacity: 494384795648. Object creation will fail if spilling is required.\n",
      "\u001b[2m\u001b[33m(raylet)\u001b[0m [2024-03-05 22:26:15,826 E 40801 36740920] (raylet) file_system_monitor.cc:111: /tmp/ray/session_2024-03-05_22-23-43_382021_40787 is over 95% full, available space: 6005518336; capacity: 494384795648. Object creation will fail if spilling is required.\n",
      "\u001b[2m\u001b[33m(raylet)\u001b[0m [2024-03-05 22:26:25,837 E 40801 36740920] (raylet) file_system_monitor.cc:111: /tmp/ray/session_2024-03-05_22-23-43_382021_40787 is over 95% full, available space: 6009688064; capacity: 494384795648. Object creation will fail if spilling is required.\n",
      "\u001b[2m\u001b[33m(raylet)\u001b[0m [2024-03-05 22:26:35,873 E 40801 36740920] (raylet) file_system_monitor.cc:111: /tmp/ray/session_2024-03-05_22-23-43_382021_40787 is over 95% full, available space: 6009425920; capacity: 494384795648. Object creation will fail if spilling is required.\n",
      "\u001b[2m\u001b[33m(raylet)\u001b[0m [2024-03-05 22:26:45,879 E 40801 36740920] (raylet) file_system_monitor.cc:111: /tmp/ray/session_2024-03-05_22-23-43_382021_40787 is over 95% full, available space: 6008254464; capacity: 494384795648. Object creation will fail if spilling is required.\n"
     ]
    }
   ],
   "source": [
    "# With a dictionary, you tell Flower's VirtualClientEngine that each\n",
    "# client needs exclusive access to these many resources in order to run\n",
    "client_resources = {\"num_cpus\": 1, \"num_gpus\": 0.0}\n",
    "\n",
    "history = fl.simulation.start_simulation(\n",
    "    client_fn=client_fn_callback,  # a callback to construct a client\n",
    "    num_clients=NUM_CLIENTS,  # total number of clients in the experiment\n",
    "    config=fl.server.ServerConfig(num_rounds=10),  # let's run for 10 rounds\n",
    "    strategy=strategy,  # the strategy that will orchestrate the whole FL pipeline\n",
    "    client_resources=client_resources)"
   ]
  },
  {
   "cell_type": "markdown",
   "id": "86d13c27",
   "metadata": {},
   "source": [
    "# Evaluation "
   ]
  },
  {
   "cell_type": "code",
   "execution_count": 12,
   "id": "f566ad25",
   "metadata": {},
   "outputs": [
    {
     "data": {
      "image/png": "[encoded data removed]",
      "text/plain": [
       "<Figure size 640x480 with 1 Axes>"
      ]
     },
     "metadata": {},
     "output_type": "display_data"
    }
   ],
   "source": [
    "import matplotlib.pyplot as plt\n",
    "plt.style.use('seaborn-v0_8-whitegrid')\n",
    "\n",
    "# get centralized evaluation accuracy scores per round\n",
    "global_accuracy_centralised = history.metrics_centralized[\"accuracy\"] \n",
    "r = [data[0] for data in global_accuracy_centralised] # rounds\n",
    "acc = [100.0 * data[1] for data in global_accuracy_centralised] # scores\n",
    "plt.plot(r, acc)\n",
    "\n",
    "# axis labels & title\n",
    "plt.ylabel(\"Accuracy (%)\")\n",
    "plt.xlabel(\"Round\")\n",
    "plt.title(f\"MNIST -- {NUM_CLIENTS} clients with 10 clients per round\")\n",
    "plt.show()"
   ]
  },
  {
   "cell_type": "markdown",
   "id": "58f5f318",
   "metadata": {},
   "source": [
    "#### Q: Explain what can be seen in the plot. \n",
    "\n",
    "..."
   ]
  }
 ],
 "metadata": {
  "kernelspec": {
   "display_name": "week5_venv",
   "language": "python",
   "name": "week5_venv"
  },
  "language_info": {
   "codemirror_mode": {
    "name": "ipython",
    "version": 3
   },
   "file_extension": ".py",
   "mimetype": "text/x-python",
   "name": "python",
   "nbconvert_exporter": "python",
   "pygments_lexer": "ipython3",
   "version": "3.9.7"
  }
 },
 "nbformat": 4,
 "nbformat_minor": 5
}
