{
 "cells": [
  {
   "cell_type": "markdown",
   "id": "b749cc70",
   "metadata": {},
   "source": [
    "# Week 02 – Glassbox Models\n",
    "\n",
    "In this notebook we'll be applying different glassbox models to the same dataset and compare their performance in terms of accuracy and f1-score and their interpretability.\n",
    "\n",
    "If you haven't done so yet, please run the following in your command line so you're able to access the relevant packages: \n",
    "```\n",
    "# navigate to parent directory using cd and activate environment\n",
    "cd trustworthy_ai\n",
    "source trustworthy_ai_venv/bin/activate\n",
    "\n",
    "# for Rule Generation (RUG)\n",
    "git clone https://github.com/sibirbil/RuleDiscovery.git\n",
    "\n",
    "# for General Additive Models (GAMs), Explainable Boosting Machine (EBM), and Decision Lists\n",
    "pip install interpret statsmodels skope-rules\n",
    "\n",
    "# for Sparse Decision Trees\n",
    "pip install graphviz cython\n",
    "git clone https://github.com/ubc-systopia/pydl8.5-lbguess.git\n",
    "cd pydl8.5-lbguess\n",
    "python3 setup.py install\n",
    "\n",
    "# close environment\n",
    "deactivate\n",
    "```\n",
    "**import packages**"
   ]
  },
  {
   "cell_type": "code",
   "execution_count": 1,
   "id": "3e4b241e",
   "metadata": {},
   "outputs": [],
   "source": [
    "import warnings\n",
    "warnings.filterwarnings(\"ignore\")\n",
    "import numpy as np\n",
    "import pandas as pd\n",
    "from sklearn.metrics import accuracy_score, f1_score, confusion_matrix, roc_auc_score\n",
    "import os\n",
    "import sys\n",
    "import matplotlib.pyplot as plt"
   ]
  },
  {
   "cell_type": "markdown",
   "id": "dc0e93fa",
   "metadata": {},
   "source": [
    "# Load the dataset\n",
    "\n",
    "We are using the [Titanic dataset](https://www.kaggle.com/c/titanic/overview), which holds data about passangers of the Titanic and whether they survived or not. Passengers are described by 7 features. The response variable is binary (0 – died; 1 - survived).\n",
    "\n",
    "Make sure to save the dataset in the parent directory or adjust the file path below.\n",
    "\n",
    "We are directly loading the pre-processed data sets. For some algorithms, we require the data to be in binary form. Hence, we have two versions of X: `X_train` and `X_test`, with continous features and one-hot encoded categorical features, and `X_train_bin` and `X_test_bin`, where all features have been one-hot encoded. For this, continuous features were first transformed into categories. Check the code in `./01_intro/titanic_data_prep.ipynb` for more details on pre-processing."
   ]
  },
  {
   "cell_type": "code",
   "execution_count": 2,
   "id": "248acf65",
   "metadata": {},
   "outputs": [
    {
     "data": {
      "text/html": [
       "<div>\n",
       "<style scoped>\n",
       "    .dataframe tbody tr th:only-of-type {\n",
       "        vertical-align: middle;\n",
       "    }\n",
       "\n",
       "    .dataframe tbody tr th {\n",
       "        vertical-align: top;\n",
       "    }\n",
       "\n",
       "    .dataframe thead th {\n",
       "        text-align: right;\n",
       "    }\n",
       "</style>\n",
       "<table border=\"1\" class=\"dataframe\">\n",
       "  <thead>\n",
       "    <tr style=\"text-align: right;\">\n",
       "      <th></th>\n",
       "      <th>Age</th>\n",
       "      <th>SibSp</th>\n",
       "      <th>Parch</th>\n",
       "      <th>Fare</th>\n",
       "      <th>Sex_1</th>\n",
       "      <th>Embarked_1</th>\n",
       "      <th>Embarked_2</th>\n",
       "      <th>Pclass_1</th>\n",
       "      <th>Pclass_2</th>\n",
       "    </tr>\n",
       "  </thead>\n",
       "  <tbody>\n",
       "    <tr>\n",
       "      <th>0</th>\n",
       "      <td>29.699118</td>\n",
       "      <td>0</td>\n",
       "      <td>0</td>\n",
       "      <td>7.6292</td>\n",
       "      <td>0</td>\n",
       "      <td>1</td>\n",
       "      <td>0</td>\n",
       "      <td>0</td>\n",
       "      <td>1</td>\n",
       "    </tr>\n",
       "    <tr>\n",
       "      <th>1</th>\n",
       "      <td>29.699118</td>\n",
       "      <td>0</td>\n",
       "      <td>0</td>\n",
       "      <td>8.0500</td>\n",
       "      <td>1</td>\n",
       "      <td>0</td>\n",
       "      <td>1</td>\n",
       "      <td>0</td>\n",
       "      <td>1</td>\n",
       "    </tr>\n",
       "    <tr>\n",
       "      <th>2</th>\n",
       "      <td>29.699118</td>\n",
       "      <td>0</td>\n",
       "      <td>0</td>\n",
       "      <td>7.7500</td>\n",
       "      <td>0</td>\n",
       "      <td>1</td>\n",
       "      <td>0</td>\n",
       "      <td>0</td>\n",
       "      <td>1</td>\n",
       "    </tr>\n",
       "    <tr>\n",
       "      <th>3</th>\n",
       "      <td>51.000000</td>\n",
       "      <td>1</td>\n",
       "      <td>0</td>\n",
       "      <td>77.9583</td>\n",
       "      <td>0</td>\n",
       "      <td>0</td>\n",
       "      <td>1</td>\n",
       "      <td>0</td>\n",
       "      <td>0</td>\n",
       "    </tr>\n",
       "    <tr>\n",
       "      <th>4</th>\n",
       "      <td>21.000000</td>\n",
       "      <td>0</td>\n",
       "      <td>0</td>\n",
       "      <td>7.7333</td>\n",
       "      <td>1</td>\n",
       "      <td>1</td>\n",
       "      <td>0</td>\n",
       "      <td>0</td>\n",
       "      <td>1</td>\n",
       "    </tr>\n",
       "  </tbody>\n",
       "</table>\n",
       "</div>"
      ],
      "text/plain": [
       "         Age  SibSp  Parch     Fare  Sex_1  Embarked_1  Embarked_2  Pclass_1  \\\n",
       "0  29.699118      0      0   7.6292      0           1           0         0   \n",
       "1  29.699118      0      0   8.0500      1           0           1         0   \n",
       "2  29.699118      0      0   7.7500      0           1           0         0   \n",
       "3  51.000000      1      0  77.9583      0           0           1         0   \n",
       "4  21.000000      0      0   7.7333      1           1           0         0   \n",
       "\n",
       "   Pclass_2  \n",
       "0         1  \n",
       "1         1  \n",
       "2         1  \n",
       "3         0  \n",
       "4         1  "
      ]
     },
     "execution_count": 2,
     "metadata": {},
     "output_type": "execute_result"
    }
   ],
   "source": [
    "# X_train \n",
    "X_train = pd.read_csv('../datasets/titanic/encoded_titanic_X_train.csv')\n",
    "X_train_bin = pd.read_csv('../datasets/titanic/bin_titanic_X_train.csv')\n",
    "\n",
    "# X_test\n",
    "X_test = pd.read_csv('../datasets/titanic/encoded_titanic_X_test.csv')\n",
    "X_test_bin = pd.read_csv('../datasets/titanic/bin_titanic_X_test.csv')\n",
    "\n",
    "# y_train and y_test\n",
    "y_train = pd.read_csv('../datasets/titanic/titanic_y_train.csv')\n",
    "y_test = pd.read_csv('../datasets/titanic/titanic_y_test.csv')\n",
    "\n",
    "# take a look at the data\n",
    "X_train.head()"
   ]
  },
  {
   "cell_type": "markdown",
   "id": "50ad58d6",
   "metadata": {},
   "source": [
    "## About the dataset\n",
    "\n",
    "- `Age` – age of a person in years (int)\n",
    "- `SibSp` – the number of siblings or spouse of a person **onboard** (int)\n",
    "- `Parch` – the number of parents or children of a person **onbard** (int)\n",
    "- `Fare` – ticket price (float)\n",
    "- `Sex` – sex of a person (categorical/binary)\n",
    "- `Embarked` – location where the traveler mounted from. There are three possible values — Southampton, Cherbourg, and Queenstown (categorical)\n",
    "- `Pclass` – passenger division into class 1, 2, and 3 (categorical)\n",
    "- `Survived` – whether person survived the sinking of the ship (binary). Less than 40% survived. This is the **outcome** to predict. \n",
    "\n",
    "\n",
    "From the original dataset and from preprocessing the data, we know the following about the **categorical features**:\n",
    "\n",
    "- `Sex` has two values `['female','male']`, which were encoded `[0,1]`, respectively. Then, after applying one-hot encoding, we have `Sex_1` which indicates `male` if 1, `female` otherwise.\n",
    "- `Embarked` has three values `['C', 'Q', 'S']`, which were encoded `[0,1,2]`, respectively. Hence,\n",
    "    - `Embarked_1 = 1` indicates `Q` \n",
    "    - `Embarked_2 = 1` indicates `S`\n",
    "    - `Embarked_1 = 0` and `Embarked_2 = 0` indicated `C`\n",
    "- `Pclass` has three values `[1,2,3]`, which were encoded `[0,1,2]`, respectively. Hence, after encoding, we have:\n",
    "    - `Pclass_1 = 1` indicates `2`\n",
    "    - `Pclass_2 = 1` indicates `3`\n",
    "    - `Pclass_1 = 0` and `Pclass_2 = 0` indicates `1`"
   ]
  },
  {
   "cell_type": "code",
   "execution_count": 3,
   "id": "e798643b",
   "metadata": {},
   "outputs": [],
   "source": [
    "d = {\n",
    "    'target': 'Survived',\n",
    "    'numerical':['Age', 'SibSp', 'Parch', 'Fare'],\n",
    "    'categorical':['Sex', 'Embarked', 'Pclass']\n",
    "}\n",
    "\n",
    "# save feature names\n",
    "feature_names = X_train.columns\n",
    "target_names = list(y_train[d['target']].unique())\n",
    "\n",
    "# create a dataframe to save y values in \n",
    "y_results = pd.DataFrame()\n",
    "y_results['y_test'] = y_test"
   ]
  },
  {
   "cell_type": "markdown",
   "id": "b60564ca",
   "metadata": {},
   "source": [
    "---\n",
    "---"
   ]
  },
  {
   "cell_type": "markdown",
   "id": "dd0e7935",
   "metadata": {},
   "source": [
    "# 1. Linear Models – Logistic Regression\n",
    "\n",
    "The most commonly used package to run a logistic or linear regression model is `scikit-learn`. However, the package `interpret` has a wrapper for the logistic regression model fit by `scikit-learn`, with the added value of visualizing the model and for purposes of (global and local) interpretation. Hence, we will be using `interpret` to fit the logistic regression model."
   ]
  },
  {
   "cell_type": "code",
   "execution_count": 4,
   "id": "fafb9e01",
   "metadata": {},
   "outputs": [],
   "source": [
    "# from sklearn.linear_model import LogisticRegression\n",
    "from interpret.glassbox import LogisticRegression\n",
    "from interpret import show"
   ]
  },
  {
   "cell_type": "code",
   "execution_count": 5,
   "id": "71ca2701",
   "metadata": {},
   "outputs": [],
   "source": [
    "lr = LogisticRegression(random_state=0)\n",
    "lr.fit(X_train,y_train)\n",
    "y_results['lr_pred'] = lr.predict(X_test)"
   ]
  },
  {
   "cell_type": "markdown",
   "id": "bda621c5",
   "metadata": {},
   "source": [
    "## inspect performance"
   ]
  },
  {
   "cell_type": "code",
   "execution_count": 6,
   "id": "7fef9693",
   "metadata": {},
   "outputs": [
    {
     "name": "stdout",
     "output_type": "stream",
     "text": [
      "Confusion matrix : \n",
      " lr_pred   0   1\n",
      "y_test         \n",
      "0        99  11\n",
      "1        25  44\n",
      "\n",
      "Accuracy  = 0.7989\n",
      "F1 score  = 0.7097\n"
     ]
    }
   ],
   "source": [
    "# Confusion matrix\n",
    "cm = pd.crosstab(y_results['y_test'], y_results['lr_pred'])\n",
    "print (\"Confusion matrix : \\n\", cm)\n",
    "\n",
    "print('\\nAccuracy  = %.4f' % accuracy_score(y_results['y_test'], y_results['lr_pred']))\n",
    "print('F1 score  = %.4f' % f1_score(y_results['y_test'], y_results['lr_pred']))"
   ]
  },
  {
   "cell_type": "markdown",
   "id": "b443527a",
   "metadata": {},
   "source": [
    "### Questions\n",
    "\n",
    "**Q 1.1 – Evaluate the model performance.**\n",
    "\n",
    "..."
   ]
  },
  {
   "cell_type": "markdown",
   "id": "5f606236",
   "metadata": {},
   "source": [
    "## model interpretation\n",
    "---\n",
    "### GLOBAL"
   ]
  },
  {
   "cell_type": "code",
   "execution_count": 7,
   "id": "2d64b2da",
   "metadata": {},
   "outputs": [
    {
     "data": {
      "text/html": [
       "<!-- http://127.0.0.1:7221/140271754251136/ -->\n",
       "<iframe src=\"http://127.0.0.1:7221/140271754251136/\" width=100% height=800 frameBorder=\"0\"></iframe>"
      ]
     },
     "metadata": {},
     "output_type": "display_data"
    }
   ],
   "source": [
    "lr_global_expl = lr.explain_global()\n",
    "show(lr_global_expl)"
   ]
  },
  {
   "cell_type": "markdown",
   "id": "19495326",
   "metadata": {},
   "source": [
    "We can also inspect the feature contribution of each (or the x most important) feature(s) and/or interactions of features:"
   ]
  },
  {
   "cell_type": "code",
   "execution_count": 8,
   "id": "f12afc31",
   "metadata": {},
   "outputs": [
    {
     "name": "stdout",
     "output_type": "stream",
     "text": [
      "1. Sex_1: -2.5863\n",
      "2. Pclass_2: -1.9532\n",
      "3. Pclass_1: -0.686\n",
      "4. SibSp: -0.3523\n",
      "5. Embarked_2: -0.2366\n",
      "6. Embarked_1: 0.0994\n",
      "7. Parch: -0.0703\n",
      "8. Age: -0.0377\n",
      "9. Fare: 0.0042\n"
     ]
    }
   ],
   "source": [
    "expl_dict = lr_global_expl.data()\n",
    "\n",
    "# combine names and scores into tuples\n",
    "name_score_pairs = list(zip(expl_dict['names'], expl_dict['scores']))\n",
    "\n",
    "# sort by scores in descending order\n",
    "sorted_name_score_pairs = sorted(name_score_pairs, key=lambda x: abs(x[1]), reverse=True)\n",
    "\n",
    "# print the sorted names, scores, and ranks\n",
    "for rank, (name, score) in enumerate(sorted_name_score_pairs, start=1):\n",
    "    print(f'{rank}. {name}: {round(score,4)}')"
   ]
  },
  {
   "cell_type": "markdown",
   "id": "64f8d888",
   "metadata": {},
   "source": [
    "### Questions\n",
    "\n",
    "**Q 1.2 – Explain what is shown in the summary plot.**\n",
    "\n",
    "..."
   ]
  },
  {
   "cell_type": "markdown",
   "id": "0932183f",
   "metadata": {},
   "source": [
    "---\n",
    "### LOCAL"
   ]
  },
  {
   "cell_type": "code",
   "execution_count": 9,
   "id": "73b9f73e",
   "metadata": {},
   "outputs": [
    {
     "data": {
      "text/html": [
       "<!-- http://127.0.0.1:7221/140271754250272/ -->\n",
       "<iframe src=\"http://127.0.0.1:7221/140271754250272/\" width=100% height=800 frameBorder=\"0\"></iframe>"
      ]
     },
     "metadata": {},
     "output_type": "display_data"
    }
   ],
   "source": [
    "show(lr.explain_local(X_test, y_test))"
   ]
  },
  {
   "cell_type": "markdown",
   "id": "0c9bbb92",
   "metadata": {},
   "source": [
    "### Questions\n",
    "\n",
    "**Q 1.3 – Take a look at the local explanation for sample with index 2 of the test set. How do you explain that `Age` seems to be much more influential in the prediction for this instance, while it does receives almost no importance in the summary plot?**\n",
    "\n",
    "..."
   ]
  },
  {
   "cell_type": "markdown",
   "id": "96f073c1",
   "metadata": {},
   "source": [
    "---\n",
    "---"
   ]
  },
  {
   "cell_type": "markdown",
   "id": "71d100a6",
   "metadata": {},
   "source": [
    "# 2. Generalized Additive Models (GAM)"
   ]
  },
  {
   "cell_type": "code",
   "execution_count": 76,
   "id": "5548996a",
   "metadata": {},
   "outputs": [],
   "source": [
    "import scipy.stats as ss\n",
    "from pygam import LogisticGAM, s, f, l, te"
   ]
  },
  {
   "cell_type": "markdown",
   "id": "c8e611af",
   "metadata": {},
   "source": [
    "If you have a lot of features in the dataset, you may only want to pick some of the features to include in the model. For example, for each feature, we can check whether there is a significant correlation with the dependent variable. For categorical features, we use Chi-square; for numerical features we use Spearman's rank correlation. Then, we could select those where the associated p-value is below 0.05. However, here we will include all variables in the model."
   ]
  },
  {
   "cell_type": "markdown",
   "id": "26e1fb47",
   "metadata": {},
   "source": [
    "Typically, we use factor terms `f()` for categorical variables and spline terms `s()` for numerical variables. We can use linear terms `l()` for numerical variables with a linear relationship to the response variable. Lastly, we could also incluse tensor interaction terms `te()` between two features."
   ]
  },
  {
   "cell_type": "code",
   "execution_count": 77,
   "id": "0cbab803",
   "metadata": {},
   "outputs": [],
   "source": [
    "gam = LogisticGAM(s(0) + s(1) + s(2) + s(3) + f(4) + f(5) + f(6) + f(7) + f(8))\n",
    "gam.fit(X_train, y_train)\n",
    "\n",
    "y_results['gam_pred'] = gam.predict(X_test)*1 # *1 to concert to 0's and 1's (from True and False)"
   ]
  },
  {
   "cell_type": "markdown",
   "id": "97e38b97",
   "metadata": {},
   "source": [
    "## inspect performance"
   ]
  },
  {
   "cell_type": "code",
   "execution_count": 78,
   "id": "ee551382",
   "metadata": {},
   "outputs": [
    {
     "name": "stdout",
     "output_type": "stream",
     "text": [
      "Confusion matrix : \n",
      " gam_pred   0   1\n",
      "y_test          \n",
      "0         95  15\n",
      "1         22  47\n",
      "\n",
      "Accuracy  = 0.7933\n",
      "F1 score  = 0.7176\n"
     ]
    }
   ],
   "source": [
    "# Confusion matrix\n",
    "cm = pd.crosstab(y_results['y_test'], y_results['gam_pred'])\n",
    "print (\"Confusion matrix : \\n\", cm)\n",
    "\n",
    "print('\\nAccuracy  = %.4f' % accuracy_score(y_results['y_test'], y_results['gam_pred']))\n",
    "print('F1 score  = %.4f' % f1_score(y_results['y_test'], y_results['gam_pred']))"
   ]
  },
  {
   "cell_type": "markdown",
   "id": "6f64abcb",
   "metadata": {},
   "source": [
    "## model interpretation\n",
    "---\n",
    "### GLOBAL"
   ]
  },
  {
   "cell_type": "code",
   "execution_count": 79,
   "id": "10e2df74",
   "metadata": {
    "scrolled": true
   },
   "outputs": [
    {
     "name": "stdout",
     "output_type": "stream",
     "text": [
      "LogisticGAM                                                                                               \n",
      "=============================================== ==========================================================\n",
      "Distribution:                      BinomialDist Effective DoF:                                     26.2537\n",
      "Link Function:                        LogitLink Log Likelihood:                                   -289.182\n",
      "Number of Samples:                          712 AIC:                                              630.8712\n",
      "                                                AICc:                                             633.1236\n",
      "                                                UBRE:                                               2.9156\n",
      "                                                Scale:                                                 1.0\n",
      "                                                Pseudo R-Squared:                                   0.3899\n",
      "==========================================================================================================\n",
      "Feature Function                  Lambda               Rank         EDoF         P > x        Sig. Code   \n",
      "================================= ==================== ============ ============ ============ ============\n",
      "s(0)                              [0.6]                20           9.1          5.07e-03     **          \n",
      "s(1)                              [0.6]                20           4.2          2.44e-03     **          \n",
      "s(2)                              [0.6]                20           4.7          6.06e-01                 \n",
      "s(3)                              [0.6]                20           4.1          1.06e-01                 \n",
      "f(4)                              [0.6]                2            0.9          0.00e+00     ***         \n",
      "f(5)                              [0.6]                2            0.9          9.44e-01                 \n",
      "f(6)                              [0.6]                2            0.9          9.62e-01                 \n",
      "f(7)                              [0.6]                2            0.9          3.01e-01                 \n",
      "f(8)                              [0.6]                2            0.7          2.13e-03     **          \n",
      "intercept                                              1            0.0          8.71e-01                 \n",
      "==========================================================================================================\n",
      "Significance codes:  0 '***' 0.001 '**' 0.01 '*' 0.05 '.' 0.1 ' ' 1\n",
      "\n",
      "WARNING: Fitting splines and a linear function to a feature introduces a model identifiability problem\n",
      "         which can cause p-values to appear significant when they are not.\n",
      "\n",
      "WARNING: p-values calculated in this manner behave correctly for un-penalized models or models with\n",
      "         known smoothing parameters, but when smoothing parameters have been estimated, the p-values\n",
      "         are typically lower than they should be, meaning that the tests reject the null too readily.\n"
     ]
    }
   ],
   "source": [
    "gam.summary()"
   ]
  },
  {
   "cell_type": "markdown",
   "id": "d2dbaa75",
   "metadata": {},
   "source": [
    "---\n",
    "---\n",
    "# 3. Explainable Boosting Machine (EBM)\n",
    "\n",
    "Explainable Boosting Machine (EBM) has been implemented by interpretML. See the documentation here: https://interpret.ml/docs/python/api/ExplainableBoostingClassifier.html"
   ]
  },
  {
   "cell_type": "code",
   "execution_count": 80,
   "id": "34923c08",
   "metadata": {},
   "outputs": [],
   "source": [
    "from interpret.glassbox import ExplainableBoostingClassifier\n",
    "from interpret import show"
   ]
  },
  {
   "cell_type": "code",
   "execution_count": 81,
   "id": "f6aa577f",
   "metadata": {},
   "outputs": [],
   "source": [
    "ebm = ExplainableBoostingClassifier()\n",
    "ebm.fit(X_train, y_train)\n",
    "y_results['ebm_pred'] = ebm.predict(X_test) #save predicted values"
   ]
  },
  {
   "cell_type": "markdown",
   "id": "15764b36",
   "metadata": {},
   "source": [
    "## inspect performance"
   ]
  },
  {
   "cell_type": "code",
   "execution_count": 83,
   "id": "bc9329d7",
   "metadata": {},
   "outputs": [
    {
     "name": "stdout",
     "output_type": "stream",
     "text": [
      "Confusion matrix : \n",
      " ebm_pred   0   1\n",
      "y_test          \n",
      "0         97  13\n",
      "1         25  44\n",
      "\n",
      "Accuracy  = 0.7877\n",
      "F1 score  = 0.6984\n"
     ]
    }
   ],
   "source": [
    "# Confusion matrix\n",
    "cm = pd.crosstab(y_results['y_test'], y_results['ebm_pred'])\n",
    "print (\"Confusion matrix : \\n\", cm)\n",
    "\n",
    "print('\\nAccuracy  = %.4f' % accuracy_score(y_results['y_test'], y_results['ebm_pred']))\n",
    "print('F1 score  = %.4f' % f1_score(y_results['y_test'], y_results['ebm_pred']))"
   ]
  },
  {
   "cell_type": "markdown",
   "id": "ad0e83bf",
   "metadata": {},
   "source": [
    "### Questions\n",
    "\n",
    "**Q 3.1 – Evaluate the performance of this model by taking into account the performance scores.**\n",
    "\n",
    "..."
   ]
  },
  {
   "cell_type": "markdown",
   "id": "365c3041",
   "metadata": {},
   "source": [
    "## model interpretation\n",
    "\n",
    "---\n",
    "### GLOBAL\n",
    "\n",
    "In the display below, you can see the all feature importances in a summary plot and you can select each feature separately and inspect it's impact on the predictions more closely. "
   ]
  },
  {
   "cell_type": "code",
   "execution_count": 84,
   "id": "af325820",
   "metadata": {
    "scrolled": true
   },
   "outputs": [
    {
     "data": {
      "text/html": [
       "<!-- http://127.0.0.1:7221/140271753652640/ -->\n",
       "<iframe src=\"http://127.0.0.1:7221/140271753652640/\" width=100% height=800 frameBorder=\"0\"></iframe>"
      ]
     },
     "metadata": {},
     "output_type": "display_data"
    }
   ],
   "source": [
    "ebm_global_expl = ebm.explain_global()\n",
    "show(ebm_global_expl)"
   ]
  },
  {
   "cell_type": "markdown",
   "id": "69b9e177",
   "metadata": {},
   "source": [
    "We can also inspect the feature contribution of each (or the x most important) feature(s) and/or interactions of features:"
   ]
  },
  {
   "cell_type": "code",
   "execution_count": 85,
   "id": "80d40f8b",
   "metadata": {},
   "outputs": [
    {
     "name": "stdout",
     "output_type": "stream",
     "text": [
      "1. Sex_1: 1.1493\n",
      "2. Pclass_2: 0.5652\n",
      "3. Fare: 0.3332\n",
      "4. Age: 0.231\n",
      "5. SibSp: 0.2309\n",
      "6. Sex_1 & Pclass_2: 0.1523\n",
      "7. Embarked_2: 0.1229\n",
      "8. Age & Sex_1: 0.1185\n",
      "9. Sex_1 & Pclass_1: 0.0952\n",
      "10. Age & SibSp: 0.0916\n"
     ]
    }
   ],
   "source": [
    "expl_dict = ebm_global_expl.data()\n",
    "\n",
    "# combine names and scores into tuples\n",
    "name_score_pairs = list(zip(expl_dict['names'], expl_dict['scores']))\n",
    "\n",
    "# sort by scores in descending order\n",
    "sorted_name_score_pairs = sorted(name_score_pairs, key=lambda x: x[1], reverse=True)\n",
    "\n",
    "# print the sorted names, scores, and ranks\n",
    "for rank, (name, score) in enumerate(sorted_name_score_pairs[:10], start=1):\n",
    "    print(f'{rank}. {name}: {round(score,4)}')"
   ]
  },
  {
   "cell_type": "markdown",
   "id": "6e63cdd9",
   "metadata": {},
   "source": [
    "### Questions\n",
    "\n",
    "**Q 3.2 – Explain how the feature importances in the summary plot are obtained.**\n",
    "\n",
    "...\n",
    "\n",
    "**Q 3.3 – How can we interpret the error bars in the plots of individual features?**\n",
    "\n",
    "...\n",
    "\n",
    "**Q 3.4 – Provide a full interpretation of the importance of feature `credit_amount` using these plots.**\n",
    "\n",
    "..."
   ]
  },
  {
   "cell_type": "markdown",
   "id": "1bae6e45",
   "metadata": {},
   "source": [
    "---\n",
    "### LOCAL"
   ]
  },
  {
   "cell_type": "code",
   "execution_count": 86,
   "id": "3ae54984",
   "metadata": {},
   "outputs": [
    {
     "data": {
      "text/html": [
       "<!-- http://127.0.0.1:7221/140271755717888/ -->\n",
       "<iframe src=\"http://127.0.0.1:7221/140271755717888/\" width=100% height=800 frameBorder=\"0\"></iframe>"
      ]
     },
     "metadata": {},
     "output_type": "display_data"
    }
   ],
   "source": [
    "show(ebm.explain_local(X_test, y_test))"
   ]
  },
  {
   "cell_type": "markdown",
   "id": "5d1ebd44",
   "metadata": {},
   "source": [
    "### Questions\n",
    "\n",
    "**Q 3.5 – Take a look at the local explanation for sample with index 9 of the test set. How would you interpret this explanation?**\n",
    "\n",
    "..."
   ]
  },
  {
   "cell_type": "markdown",
   "id": "8db7b44b",
   "metadata": {},
   "source": [
    "---\n",
    "---\n",
    "# 4. Decision Trees\n"
   ]
  },
  {
   "cell_type": "markdown",
   "id": "55cb81b6",
   "metadata": {},
   "source": [
    "## 4.1 Fast Sparse Decision Trees\n",
    "\n",
    "This is a developing field and many people publish their code on Github. We will be using the code from this Github repo: https://github.com/ubc-systopia/pydl8.5-lbguess, which provides the code for the paper by [McTavish et al. (2022)](https://arxiv.org/abs/2112.00798) on Fast Sparse Decision Trees.\n",
    "\n",
    "Note: This algorithm works with **binary** input data only. "
   ]
  },
  {
   "cell_type": "code",
   "execution_count": 23,
   "id": "e6f17ca0",
   "metadata": {},
   "outputs": [],
   "source": [
    "sys.path.insert(1, os.path.dirname(os.getcwd())+'/pydl8.5-lbguess')\n",
    "from dl85 import DL85Classifier\n",
    "import fsdt_helpers "
   ]
  },
  {
   "cell_type": "code",
   "execution_count": 24,
   "id": "b50cca2f",
   "metadata": {},
   "outputs": [
    {
     "name": "stdout",
     "output_type": "stream",
     "text": [
      "TESTING STUFF\n",
      "DL8.5 fitting: Solution found\n"
     ]
    }
   ],
   "source": [
    "fsdt = DL85Classifier(time_limit=300, desc=True, max_depth=3)\n",
    "fsdt.fit(X_train_bin, y_train)\n",
    "y_results['fsdt_pred'] = fsdt.predict(X_test_bin) #save predicted values"
   ]
  },
  {
   "cell_type": "markdown",
   "id": "3f617c8b",
   "metadata": {},
   "source": [
    "## inspect performance"
   ]
  },
  {
   "cell_type": "code",
   "execution_count": 25,
   "id": "b6ecd86d",
   "metadata": {},
   "outputs": [
    {
     "name": "stdout",
     "output_type": "stream",
     "text": [
      "Confusion matrix : \n",
      " fsdt_pred    0   1\n",
      "y_test            \n",
      "0          106   4\n",
      "1           29  40\n",
      "\n",
      "Accuracy  = 0.8156\n",
      "F1 score  = 0.7080\n"
     ]
    }
   ],
   "source": [
    "# Confusion matrix\n",
    "cm = pd.crosstab(y_results['y_test'], y_results['fsdt_pred'])\n",
    "print (\"Confusion matrix : \\n\", cm)\n",
    "\n",
    "print('\\nAccuracy  = %.4f' % accuracy_score(y_results['y_test'], y_results['fsdt_pred']))\n",
    "print('F1 score  = %.4f' % f1_score(y_results['y_test'], y_results['fsdt_pred']))"
   ]
  },
  {
   "cell_type": "markdown",
   "id": "a0ab1755",
   "metadata": {},
   "source": [
    "### Questions\n",
    "\n",
    "**Q 4.1.1 – Evaluate the performance of this model by taking into account the performance scores.**\n",
    "\n",
    "..."
   ]
  },
  {
   "cell_type": "markdown",
   "id": "bf4c618e",
   "metadata": {},
   "source": [
    "## model interpretation\n",
    "\n",
    "We wrote some helper functions to extract the number of leaves (aka rules), the average rule length in the tree, and the average rule length per sample.\n",
    "\n",
    "---\n",
    "### GLOBAL"
   ]
  },
  {
   "cell_type": "code",
   "execution_count": 26,
   "id": "6a769821",
   "metadata": {},
   "outputs": [
    {
     "name": "stdout",
     "output_type": "stream",
     "text": [
      "Number of rules = 8\n",
      "Average rule length = 3.00\n"
     ]
    }
   ],
   "source": [
    "print('Number of rules = %.0f' % fsdt_helpers.get_num_leaves(fsdt.tree_))\n",
    "print('Average rule length = %.2f' % fsdt_helpers.get_avg_rule_length(fsdt.tree_))"
   ]
  },
  {
   "cell_type": "code",
   "execution_count": 27,
   "id": "c723ce96",
   "metadata": {},
   "outputs": [
    {
     "data": {
      "image/svg+xml": [
       "<?xml version=\"1.0\" encoding=\"UTF-8\" standalone=\"no\"?>\n",
       "<!DOCTYPE svg PUBLIC \"-//W3C//DTD SVG 1.1//EN\"\n",
       " \"http://www.w3.org/Graphics/SVG/1.1/DTD/svg11.dtd\">\n",
       "<!-- Generated by graphviz version 2.47.1 (0)\n",
       " -->\n",
       "<!-- Pages: 1 -->\n",
       "<svg width=\"720pt\" height=\"272pt\"\n",
       " viewBox=\"0.00 0.00 720.00 271.55\" xmlns=\"http://www.w3.org/2000/svg\" xmlns:xlink=\"http://www.w3.org/1999/xlink\">\n",
       "<g id=\"graph0\" class=\"graph\" transform=\"scale(0.88 0.88) rotate(0) translate(4 303)\">\n",
       "<polygon fill=\"white\" stroke=\"transparent\" points=\"-4,4 -4,-303 810,-303 810,4 -4,4\"/>\n",
       "<!-- 140272306841856 -->\n",
       "<g id=\"node1\" class=\"node\">\n",
       "<title>140272306841856</title>\n",
       "<polygon fill=\"none\" stroke=\"black\" points=\"390.5,-299 336.5,-299 336.5,-263 390.5,-263 390.5,-299\"/>\n",
       "<text text-anchor=\"middle\" x=\"363.5\" y=\"-277.3\" font-family=\"Times,serif\" font-size=\"14.00\">Sex_1</text>\n",
       "</g>\n",
       "<!-- 140272306917760 -->\n",
       "<g id=\"node2\" class=\"node\">\n",
       "<title>140272306917760</title>\n",
       "<polygon fill=\"none\" stroke=\"black\" points=\"340,-212 285,-212 285,-176 340,-176 340,-212\"/>\n",
       "<text text-anchor=\"middle\" x=\"312.5\" y=\"-190.3\" font-family=\"Times,serif\" font-size=\"14.00\">Fare_2</text>\n",
       "</g>\n",
       "<!-- 140272306841856&#45;&gt;140272306917760 -->\n",
       "<g id=\"edge13\" class=\"edge\">\n",
       "<title>140272306841856&#45;&gt;140272306917760</title>\n",
       "<path fill=\"none\" stroke=\"black\" d=\"M353.18,-262.8C345.99,-250.82 336.27,-234.62 328.13,-221.06\"/>\n",
       "<polygon fill=\"black\" stroke=\"black\" points=\"330.95,-218.95 322.81,-212.18 324.95,-222.55 330.95,-218.95\"/>\n",
       "<text text-anchor=\"middle\" x=\"355\" y=\"-233.8\" font-family=\"Times,serif\" font-size=\"14.00\">True</text>\n",
       "</g>\n",
       "<!-- 140272307080512 -->\n",
       "<g id=\"node9\" class=\"node\">\n",
       "<title>140272307080512</title>\n",
       "<polygon fill=\"none\" stroke=\"black\" points=\"537.5,-212 449.5,-212 449.5,-176 537.5,-176 537.5,-212\"/>\n",
       "<text text-anchor=\"middle\" x=\"493.5\" y=\"-190.3\" font-family=\"Times,serif\" font-size=\"14.00\">Embarked_2</text>\n",
       "</g>\n",
       "<!-- 140272306841856&#45;&gt;140272307080512 -->\n",
       "<g id=\"edge14\" class=\"edge\">\n",
       "<title>140272306841856&#45;&gt;140272307080512</title>\n",
       "<path fill=\"none\" stroke=\"black\" d=\"M389.81,-262.8C409.63,-249.84 437,-231.94 458.65,-217.79\"/>\n",
       "<polygon fill=\"black\" stroke=\"black\" points=\"460.78,-220.58 467.23,-212.18 456.95,-214.72 460.78,-220.58\"/>\n",
       "<text text-anchor=\"middle\" x=\"451.5\" y=\"-233.8\" font-family=\"Times,serif\" font-size=\"14.00\">False</text>\n",
       "</g>\n",
       "<!-- 140272307079936 -->\n",
       "<g id=\"node3\" class=\"node\">\n",
       "<title>140272307079936</title>\n",
       "<polygon fill=\"none\" stroke=\"black\" points=\"189.5,-125 101.5,-125 101.5,-89 189.5,-89 189.5,-125\"/>\n",
       "<text text-anchor=\"middle\" x=\"145.5\" y=\"-103.3\" font-family=\"Times,serif\" font-size=\"14.00\">Embarked_2</text>\n",
       "</g>\n",
       "<!-- 140272306917760&#45;&gt;140272307079936 -->\n",
       "<g id=\"edge5\" class=\"edge\">\n",
       "<title>140272306917760&#45;&gt;140272307079936</title>\n",
       "<path fill=\"none\" stroke=\"black\" d=\"M284.92,-178.96C258.64,-165.59 218.69,-145.25 188.28,-129.77\"/>\n",
       "<polygon fill=\"black\" stroke=\"black\" points=\"189.67,-126.56 179.17,-125.14 186.5,-132.79 189.67,-126.56\"/>\n",
       "<text text-anchor=\"middle\" x=\"253\" y=\"-146.8\" font-family=\"Times,serif\" font-size=\"14.00\">True</text>\n",
       "</g>\n",
       "<!-- 140272828191104 -->\n",
       "<g id=\"node6\" class=\"node\">\n",
       "<title>140272828191104</title>\n",
       "<polygon fill=\"none\" stroke=\"black\" points=\"340,-125 285,-125 285,-89 340,-89 340,-125\"/>\n",
       "<text text-anchor=\"middle\" x=\"312.5\" y=\"-103.3\" font-family=\"Times,serif\" font-size=\"14.00\">Fare_5</text>\n",
       "</g>\n",
       "<!-- 140272306917760&#45;&gt;140272828191104 -->\n",
       "<g id=\"edge6\" class=\"edge\">\n",
       "<title>140272306917760&#45;&gt;140272828191104</title>\n",
       "<path fill=\"none\" stroke=\"black\" d=\"M312.5,-175.8C312.5,-164.16 312.5,-148.55 312.5,-135.24\"/>\n",
       "<polygon fill=\"black\" stroke=\"black\" points=\"316,-135.18 312.5,-125.18 309,-135.18 316,-135.18\"/>\n",
       "<text text-anchor=\"middle\" x=\"327.5\" y=\"-146.8\" font-family=\"Times,serif\" font-size=\"14.00\">False</text>\n",
       "</g>\n",
       "<!-- 140272307278848 -->\n",
       "<g id=\"node4\" class=\"node\">\n",
       "<title>140272307278848</title>\n",
       "<polygon fill=\"none\" stroke=\"black\" points=\"85,-38 0,-38 0,0 85,0 85,-38\"/>\n",
       "<text text-anchor=\"middle\" x=\"42.5\" y=\"-22.8\" font-family=\"Times,serif\" font-size=\"14.00\">Class 1</text>\n",
       "<text text-anchor=\"middle\" x=\"42.5\" y=\"-7.8\" font-family=\"Times,serif\" font-size=\"14.00\">Error: 0.001</text>\n",
       "</g>\n",
       "<!-- 140272307079936&#45;&gt;140272307278848 -->\n",
       "<g id=\"edge1\" class=\"edge\">\n",
       "<title>140272307079936&#45;&gt;140272307278848</title>\n",
       "<path fill=\"none\" stroke=\"black\" d=\"M124.66,-88.6C109.6,-76.03 89.05,-58.87 72.27,-44.86\"/>\n",
       "<polygon fill=\"black\" stroke=\"black\" points=\"74.3,-41.99 64.38,-38.27 69.81,-47.36 74.3,-41.99\"/>\n",
       "<text text-anchor=\"middle\" x=\"117\" y=\"-59.8\" font-family=\"Times,serif\" font-size=\"14.00\">True</text>\n",
       "</g>\n",
       "<!-- 140272307080256 -->\n",
       "<g id=\"node5\" class=\"node\">\n",
       "<title>140272307080256</title>\n",
       "<polygon fill=\"none\" stroke=\"black\" points=\"188,-38 103,-38 103,0 188,0 188,-38\"/>\n",
       "<text text-anchor=\"middle\" x=\"145.5\" y=\"-22.8\" font-family=\"Times,serif\" font-size=\"14.00\">Class 0</text>\n",
       "<text text-anchor=\"middle\" x=\"145.5\" y=\"-7.8\" font-family=\"Times,serif\" font-size=\"14.00\">Error: 0.001</text>\n",
       "</g>\n",
       "<!-- 140272307079936&#45;&gt;140272307080256 -->\n",
       "<g id=\"edge2\" class=\"edge\">\n",
       "<title>140272307079936&#45;&gt;140272307080256</title>\n",
       "<path fill=\"none\" stroke=\"black\" d=\"M145.5,-88.6C145.5,-77.06 145.5,-61.65 145.5,-48.36\"/>\n",
       "<polygon fill=\"black\" stroke=\"black\" points=\"149,-48.27 145.5,-38.27 142,-48.27 149,-48.27\"/>\n",
       "<text text-anchor=\"middle\" x=\"160.5\" y=\"-59.8\" font-family=\"Times,serif\" font-size=\"14.00\">False</text>\n",
       "</g>\n",
       "<!-- 140272592689984 -->\n",
       "<g id=\"node7\" class=\"node\">\n",
       "<title>140272592689984</title>\n",
       "<polygon fill=\"none\" stroke=\"black\" points=\"291,-38 206,-38 206,0 291,0 291,-38\"/>\n",
       "<text text-anchor=\"middle\" x=\"248.5\" y=\"-22.8\" font-family=\"Times,serif\" font-size=\"14.00\">Class 1</text>\n",
       "<text text-anchor=\"middle\" x=\"248.5\" y=\"-7.8\" font-family=\"Times,serif\" font-size=\"14.00\">Error: 0.000</text>\n",
       "</g>\n",
       "<!-- 140272828191104&#45;&gt;140272592689984 -->\n",
       "<g id=\"edge3\" class=\"edge\">\n",
       "<title>140272828191104&#45;&gt;140272592689984</title>\n",
       "<path fill=\"none\" stroke=\"black\" d=\"M299.55,-88.6C290.53,-76.48 278.35,-60.11 268.15,-46.4\"/>\n",
       "<polygon fill=\"black\" stroke=\"black\" points=\"270.87,-44.2 262.09,-38.27 265.26,-48.38 270.87,-44.2\"/>\n",
       "<text text-anchor=\"middle\" x=\"300\" y=\"-59.8\" font-family=\"Times,serif\" font-size=\"14.00\">True</text>\n",
       "</g>\n",
       "<!-- 140272828191552 -->\n",
       "<g id=\"node8\" class=\"node\">\n",
       "<title>140272828191552</title>\n",
       "<polygon fill=\"none\" stroke=\"black\" points=\"394,-38 309,-38 309,0 394,0 394,-38\"/>\n",
       "<text text-anchor=\"middle\" x=\"351.5\" y=\"-22.8\" font-family=\"Times,serif\" font-size=\"14.00\">Class 0</text>\n",
       "<text text-anchor=\"middle\" x=\"351.5\" y=\"-7.8\" font-family=\"Times,serif\" font-size=\"14.00\">Error: 0.111</text>\n",
       "</g>\n",
       "<!-- 140272828191104&#45;&gt;140272828191552 -->\n",
       "<g id=\"edge4\" class=\"edge\">\n",
       "<title>140272828191104&#45;&gt;140272828191552</title>\n",
       "<path fill=\"none\" stroke=\"black\" d=\"M320.39,-88.6C325.73,-76.83 332.89,-61.04 339,-47.57\"/>\n",
       "<polygon fill=\"black\" stroke=\"black\" points=\"342.27,-48.82 343.22,-38.27 335.9,-45.93 342.27,-48.82\"/>\n",
       "<text text-anchor=\"middle\" x=\"349.5\" y=\"-59.8\" font-family=\"Times,serif\" font-size=\"14.00\">False</text>\n",
       "</g>\n",
       "<!-- 140272828191360 -->\n",
       "<g id=\"node10\" class=\"node\">\n",
       "<title>140272828191360</title>\n",
       "<polygon fill=\"none\" stroke=\"black\" points=\"526.5,-125 460.5,-125 460.5,-89 526.5,-89 526.5,-125\"/>\n",
       "<text text-anchor=\"middle\" x=\"493.5\" y=\"-103.3\" font-family=\"Times,serif\" font-size=\"14.00\">Pclass_2</text>\n",
       "</g>\n",
       "<!-- 140272307080512&#45;&gt;140272828191360 -->\n",
       "<g id=\"edge11\" class=\"edge\">\n",
       "<title>140272307080512&#45;&gt;140272828191360</title>\n",
       "<path fill=\"none\" stroke=\"black\" d=\"M493.5,-175.8C493.5,-164.16 493.5,-148.55 493.5,-135.24\"/>\n",
       "<polygon fill=\"black\" stroke=\"black\" points=\"497,-135.18 493.5,-125.18 490,-135.18 497,-135.18\"/>\n",
       "<text text-anchor=\"middle\" x=\"507\" y=\"-146.8\" font-family=\"Times,serif\" font-size=\"14.00\">True</text>\n",
       "</g>\n",
       "<!-- 140272828191296 -->\n",
       "<g id=\"node13\" class=\"node\">\n",
       "<title>140272828191296</title>\n",
       "<polygon fill=\"none\" stroke=\"black\" points=\"691.5,-125 629.5,-125 629.5,-89 691.5,-89 691.5,-125\"/>\n",
       "<text text-anchor=\"middle\" x=\"660.5\" y=\"-103.3\" font-family=\"Times,serif\" font-size=\"14.00\">Parch_5</text>\n",
       "</g>\n",
       "<!-- 140272307080512&#45;&gt;140272828191296 -->\n",
       "<g id=\"edge12\" class=\"edge\">\n",
       "<title>140272307080512&#45;&gt;140272828191296</title>\n",
       "<path fill=\"none\" stroke=\"black\" d=\"M527.29,-175.8C554.1,-162.16 591.64,-143.05 620.04,-128.59\"/>\n",
       "<polygon fill=\"black\" stroke=\"black\" points=\"621.97,-131.54 629.29,-123.88 618.79,-125.3 621.97,-131.54\"/>\n",
       "<text text-anchor=\"middle\" x=\"602.5\" y=\"-146.8\" font-family=\"Times,serif\" font-size=\"14.00\">False</text>\n",
       "</g>\n",
       "<!-- 140272307080000 -->\n",
       "<g id=\"node11\" class=\"node\">\n",
       "<title>140272307080000</title>\n",
       "<polygon fill=\"none\" stroke=\"black\" points=\"497,-38 412,-38 412,0 497,0 497,-38\"/>\n",
       "<text text-anchor=\"middle\" x=\"454.5\" y=\"-22.8\" font-family=\"Times,serif\" font-size=\"14.00\">Class 0</text>\n",
       "<text text-anchor=\"middle\" x=\"454.5\" y=\"-7.8\" font-family=\"Times,serif\" font-size=\"14.00\">Error: 0.038</text>\n",
       "</g>\n",
       "<!-- 140272828191360&#45;&gt;140272307080000 -->\n",
       "<g id=\"edge7\" class=\"edge\">\n",
       "<title>140272828191360&#45;&gt;140272307080000</title>\n",
       "<path fill=\"none\" stroke=\"black\" d=\"M485.61,-88.6C480.27,-76.83 473.11,-61.04 467,-47.57\"/>\n",
       "<polygon fill=\"black\" stroke=\"black\" points=\"470.1,-45.93 462.78,-38.27 463.73,-48.82 470.1,-45.93\"/>\n",
       "<text text-anchor=\"middle\" x=\"491\" y=\"-59.8\" font-family=\"Times,serif\" font-size=\"14.00\">True</text>\n",
       "</g>\n",
       "<!-- 140272307080128 -->\n",
       "<g id=\"node12\" class=\"node\">\n",
       "<title>140272307080128</title>\n",
       "<polygon fill=\"none\" stroke=\"black\" points=\"600,-38 515,-38 515,0 600,0 600,-38\"/>\n",
       "<text text-anchor=\"middle\" x=\"557.5\" y=\"-22.8\" font-family=\"Times,serif\" font-size=\"14.00\">Class 1</text>\n",
       "<text text-anchor=\"middle\" x=\"557.5\" y=\"-7.8\" font-family=\"Times,serif\" font-size=\"14.00\">Error: 0.010</text>\n",
       "</g>\n",
       "<!-- 140272828191360&#45;&gt;140272307080128 -->\n",
       "<g id=\"edge8\" class=\"edge\">\n",
       "<title>140272828191360&#45;&gt;140272307080128</title>\n",
       "<path fill=\"none\" stroke=\"black\" d=\"M506.45,-88.6C515.47,-76.48 527.65,-60.11 537.85,-46.4\"/>\n",
       "<polygon fill=\"black\" stroke=\"black\" points=\"540.74,-48.38 543.91,-38.27 535.13,-44.2 540.74,-48.38\"/>\n",
       "<text text-anchor=\"middle\" x=\"544.5\" y=\"-59.8\" font-family=\"Times,serif\" font-size=\"14.00\">False</text>\n",
       "</g>\n",
       "<!-- 140272306918976 -->\n",
       "<g id=\"node14\" class=\"node\">\n",
       "<title>140272306918976</title>\n",
       "<polygon fill=\"none\" stroke=\"black\" points=\"703,-38 618,-38 618,0 703,0 703,-38\"/>\n",
       "<text text-anchor=\"middle\" x=\"660.5\" y=\"-22.8\" font-family=\"Times,serif\" font-size=\"14.00\">Class 0</text>\n",
       "<text text-anchor=\"middle\" x=\"660.5\" y=\"-7.8\" font-family=\"Times,serif\" font-size=\"14.00\">Error: 0.000</text>\n",
       "</g>\n",
       "<!-- 140272828191296&#45;&gt;140272306918976 -->\n",
       "<g id=\"edge9\" class=\"edge\">\n",
       "<title>140272828191296&#45;&gt;140272306918976</title>\n",
       "<path fill=\"none\" stroke=\"black\" d=\"M660.5,-88.6C660.5,-77.06 660.5,-61.65 660.5,-48.36\"/>\n",
       "<polygon fill=\"black\" stroke=\"black\" points=\"664,-48.27 660.5,-38.27 657,-48.27 664,-48.27\"/>\n",
       "<text text-anchor=\"middle\" x=\"674\" y=\"-59.8\" font-family=\"Times,serif\" font-size=\"14.00\">True</text>\n",
       "</g>\n",
       "<!-- 140272307079680 -->\n",
       "<g id=\"node15\" class=\"node\">\n",
       "<title>140272307079680</title>\n",
       "<polygon fill=\"none\" stroke=\"black\" points=\"806,-38 721,-38 721,0 806,0 806,-38\"/>\n",
       "<text text-anchor=\"middle\" x=\"763.5\" y=\"-22.8\" font-family=\"Times,serif\" font-size=\"14.00\">Class 1</text>\n",
       "<text text-anchor=\"middle\" x=\"763.5\" y=\"-7.8\" font-family=\"Times,serif\" font-size=\"14.00\">Error: 0.020</text>\n",
       "</g>\n",
       "<!-- 140272828191296&#45;&gt;140272307079680 -->\n",
       "<g id=\"edge10\" class=\"edge\">\n",
       "<title>140272828191296&#45;&gt;140272307079680</title>\n",
       "<path fill=\"none\" stroke=\"black\" d=\"M681.34,-88.6C696.4,-76.03 716.95,-58.87 733.73,-44.86\"/>\n",
       "<polygon fill=\"black\" stroke=\"black\" points=\"736.19,-47.36 741.62,-38.27 731.7,-41.99 736.19,-47.36\"/>\n",
       "<text text-anchor=\"middle\" x=\"732.5\" y=\"-59.8\" font-family=\"Times,serif\" font-size=\"14.00\">False</text>\n",
       "</g>\n",
       "</g>\n",
       "</svg>\n"
      ],
      "text/plain": [
       "<graphviz.graphs.Digraph at 0x7f93c22099a0>"
      ]
     },
     "execution_count": 27,
     "metadata": {},
     "output_type": "execute_result"
    }
   ],
   "source": [
    "# plot tree\n",
    "fsdt_helpers.display_tree(tree = fsdt.tree_, n = len(X_train_bin), feature_names = X_train_bin.columns)"
   ]
  },
  {
   "cell_type": "markdown",
   "id": "28f246ca",
   "metadata": {},
   "source": [
    "### Questions\n",
    "\n",
    "**Q 4.1.2 – Discuss global interpretability of the resulting tree.**\n",
    "\n",
    "..."
   ]
  },
  {
   "cell_type": "markdown",
   "id": "af5f27de",
   "metadata": {},
   "source": [
    "---\n",
    "### LOCAL"
   ]
  },
  {
   "cell_type": "code",
   "execution_count": 28,
   "id": "ef7e18bc",
   "metadata": {},
   "outputs": [
    {
     "name": "stdout",
     "output_type": "stream",
     "text": [
      "Average number of rules used per sample = 1.00\n",
      "Average rule length per sample = 3.00\n"
     ]
    }
   ],
   "source": [
    "print('Average number of rules used per sample = %.2f' % 1.00)\n",
    "print('Average rule length per sample = %.2f' % fsdt_helpers.get_avg_rule_length_per_sample(fsdt.tree_,np.array(X_test_bin)))"
   ]
  },
  {
   "cell_type": "code",
   "execution_count": 29,
   "id": "85175633",
   "metadata": {},
   "outputs": [
    {
     "data": {
      "text/plain": [
       "Pclass_1      0\n",
       "Pclass_2      1\n",
       "Sex_1         0\n",
       "Age_2         0\n",
       "Age_3         1\n",
       "Age_4         0\n",
       "Age_5         0\n",
       "SibSp_2       0\n",
       "SibSp_3       0\n",
       "SibSp_4       0\n",
       "SibSp_5       0\n",
       "Parch_2       0\n",
       "Parch_3       0\n",
       "Parch_4       0\n",
       "Parch_5       1\n",
       "Fare_2        0\n",
       "Fare_3        0\n",
       "Fare_4        0\n",
       "Fare_5        0\n",
       "Embarked_1    0\n",
       "Embarked_2    1\n",
       "Name: 2, dtype: int64"
      ]
     },
     "execution_count": 29,
     "metadata": {},
     "output_type": "execute_result"
    }
   ],
   "source": [
    "X_test_bin.iloc[2,:]"
   ]
  },
  {
   "cell_type": "markdown",
   "id": "8aca885a",
   "metadata": {},
   "source": [
    "### Questions\n",
    "\n",
    "**Q 4.1.3 – Explain how you would make the prediction for sample with index 2 of the test set.**\n",
    "\n",
    "..."
   ]
  },
  {
   "cell_type": "markdown",
   "id": "0161a223",
   "metadata": {},
   "source": [
    "## 4.2 CART\n",
    "\n",
    "Let's compare this to the most popular algorithm to grow a decision tree, which is called CART and is implemented in `scikit-learn`. \n",
    "\n",
    "To be able to **directly** compare both trees, we will again use the **binary** datasets `X_train_bin` and `X_test_bin` to train and test the model, respectively, even though CART can handle continous data.\n",
    "\n",
    "Feel free to train CART on the continous data `X_train` and inspect the results as well."
   ]
  },
  {
   "cell_type": "code",
   "execution_count": 30,
   "id": "ab856189",
   "metadata": {},
   "outputs": [],
   "source": [
    "from sklearn.tree import DecisionTreeClassifier, plot_tree"
   ]
  },
  {
   "cell_type": "code",
   "execution_count": 34,
   "id": "de66bf9c",
   "metadata": {},
   "outputs": [],
   "source": [
    "tree = DecisionTreeClassifier(max_depth=3)\n",
    "tree.fit(X_train_bin, y_train)\n",
    "y_results['tree_pred'] = tree.predict(X_test_bin) #save predicted values"
   ]
  },
  {
   "cell_type": "markdown",
   "id": "c5f5b94b",
   "metadata": {},
   "source": [
    "## inspect performance"
   ]
  },
  {
   "cell_type": "code",
   "execution_count": 35,
   "id": "df45c027",
   "metadata": {},
   "outputs": [
    {
     "name": "stdout",
     "output_type": "stream",
     "text": [
      "Confusion matrix : \n",
      " tree_pred    0   1\n",
      "y_test            \n",
      "0          107   3\n",
      "1           36  33\n",
      "\n",
      "Accuracy  = 0.7821\n",
      "F1 score  = 0.6286\n"
     ]
    }
   ],
   "source": [
    "# Confusion matrix\n",
    "cm = pd.crosstab(y_results['y_test'], y_results['tree_pred'])\n",
    "print (\"Confusion matrix : \\n\", cm)\n",
    "\n",
    "print('\\nAccuracy  = %.4f' % accuracy_score(y_results['y_test'], y_results['tree_pred']))\n",
    "print('F1 score  = %.4f' % f1_score(y_results['y_test'], y_results['tree_pred']))"
   ]
  },
  {
   "cell_type": "markdown",
   "id": "8c49259f",
   "metadata": {},
   "source": [
    "### Questions\n",
    "\n",
    "**Q 4.2.1 – Evaluate the performance of this model by taking into account the performance scores.**\n",
    "\n",
    "..."
   ]
  },
  {
   "cell_type": "markdown",
   "id": "d3408911",
   "metadata": {},
   "source": [
    "## model interpretation \n",
    "---\n",
    "### GLOBAL"
   ]
  },
  {
   "cell_type": "code",
   "execution_count": 36,
   "id": "55ec4ef0",
   "metadata": {},
   "outputs": [
    {
     "name": "stdout",
     "output_type": "stream",
     "text": [
      "Number of rules = 8\n",
      "Average rule length = 3.00\n"
     ]
    },
    {
     "data": {
      "image/png": "[encoded data removed]",
      "text/plain": [
       "<Figure size 2500x1500 with 1 Axes>"
      ]
     },
     "metadata": {},
     "output_type": "display_data"
    }
   ],
   "source": [
    "fig = plt.figure(figsize=(25,15))\n",
    "_ = plot_tree(tree, feature_names=X_train_bin.columns, class_names=['{:.0f}'.format(x) for x in target_names], filled=True, fontsize=15)\n",
    "\n",
    "print('Number of rules = %.0f' % tree.get_n_leaves())\n",
    "print('Average rule length = %.2f' % tree.get_depth())"
   ]
  },
  {
   "cell_type": "markdown",
   "id": "aa1d1815",
   "metadata": {},
   "source": [
    "### Questions\n",
    "\n",
    "**Q 4.2.2 – Which feature is, based on this tree, the most important variable to predict survival?**\n",
    "\n",
    "..."
   ]
  },
  {
   "cell_type": "markdown",
   "id": "d54ea5c8",
   "metadata": {},
   "source": [
    "--- \n",
    "### LOCAL\n",
    "\n",
    "### Questions\n",
    "\n",
    "**Q 4.2.3 – Explain how you would make the prediction for sample with index 2 of the test set.**\n",
    "\n",
    "..."
   ]
  },
  {
   "cell_type": "markdown",
   "id": "76eff623",
   "metadata": {},
   "source": [
    "---\n",
    "---"
   ]
  },
  {
   "cell_type": "markdown",
   "id": "6b732c14",
   "metadata": {},
   "source": [
    "# 5. Decision Rules"
   ]
  },
  {
   "cell_type": "markdown",
   "id": "303e73c0",
   "metadata": {},
   "source": [
    "## 5.1 Rule Generation (RUG)"
   ]
  },
  {
   "cell_type": "code",
   "execution_count": 37,
   "id": "d6c0d2e3",
   "metadata": {},
   "outputs": [],
   "source": [
    "sys.path.insert(1, os.path.dirname(os.getcwd())+'/RuleDiscovery')\n",
    "from ruxg import RUGClassifier\n",
    "import ruxg"
   ]
  },
  {
   "cell_type": "code",
   "execution_count": 58,
   "id": "55529776",
   "metadata": {},
   "outputs": [],
   "source": [
    "rug = ruxg.RUGClassifier(max_depth=3, rule_length_cost=False,\n",
    "                    solver='gurobi', random_state=0, max_RMP_calls = 8, threshold = 0.05)\n",
    "rug.fit(np.array(X_train), np.array(y_train[d['target']]))\n",
    "y_results['rug_pred'] = rug.predict(np.array(X_test))"
   ]
  },
  {
   "cell_type": "markdown",
   "id": "965a01eb",
   "metadata": {},
   "source": [
    "## inspect performance"
   ]
  },
  {
   "cell_type": "code",
   "execution_count": 59,
   "id": "eb21093b",
   "metadata": {},
   "outputs": [
    {
     "name": "stdout",
     "output_type": "stream",
     "text": [
      "Confusion matrix : \n",
      " rug_pred   0   1\n",
      "y_test          \n",
      "0         98  12\n",
      "1         23  46\n",
      "\n",
      "Accuracy  = 0.8045\n",
      "F1 score  = 0.7244\n"
     ]
    }
   ],
   "source": [
    "# Confusion matrix\n",
    "cm = pd.crosstab(y_results['y_test'], y_results['rug_pred'])\n",
    "print (\"Confusion matrix : \\n\", cm)\n",
    "\n",
    "print('\\nAccuracy  = %.4f' % accuracy_score(y_results['y_test'], y_results['rug_pred']))\n",
    "print('F1 score  = %.4f' % f1_score(y_results['y_test'], y_results['rug_pred']))"
   ]
  },
  {
   "cell_type": "markdown",
   "id": "1c9272a0",
   "metadata": {},
   "source": [
    "### Questions\n",
    "\n",
    "**Q 5.1.1 – Evaluate the model performance.**\n",
    "\n",
    "...\n",
    "\n",
    "**Q 5.1.2 – Explain the meaning of the parameter `rule_length_cost` and what it means when the parameter is set to `True`. How would you expect the results to change?**\n",
    "\n",
    "..."
   ]
  },
  {
   "cell_type": "markdown",
   "id": "311dc60d",
   "metadata": {},
   "source": [
    "## model interpretation\n",
    "\n",
    "---\n",
    "### GLOBAL"
   ]
  },
  {
   "cell_type": "code",
   "execution_count": 60,
   "id": "ac91b23f",
   "metadata": {},
   "outputs": [
    {
     "name": "stdout",
     "output_type": "stream",
     "text": [
      "Number of rules = 16\n",
      "Average rule length = 2.25\n"
     ]
    }
   ],
   "source": [
    "print('Number of rules = %.0f' % rug.get_num_of_rules())\n",
    "print('Average rule length = %.2f' % rug.get_avg_rule_length())"
   ]
  },
  {
   "cell_type": "code",
   "execution_count": 61,
   "id": "c94d64d4",
   "metadata": {},
   "outputs": [
    {
     "name": "stdout",
     "output_type": "stream",
     "text": [
      "RULE 0:\n",
      "Age <= 1.50\n",
      "\n",
      "Class: 1\n",
      "Scaled rule weight: 1.0000\n",
      "\n",
      "RULE 1:\n",
      "0.96 < Age <= 2.50\n",
      "Pclass_1 <= 0.50\n",
      "\n",
      "Class: 0\n",
      "Scaled rule weight: 1.0000\n",
      "\n",
      "RULE 2:\n",
      "47.50 < Age <= 48.50\n",
      "\n",
      "Class: 1\n",
      "Scaled rule weight: 1.0000\n",
      "\n",
      "RULE 3:\n",
      "Age > 22.00\n",
      "52.28 < Fare <= 59.19\n",
      "\n",
      "Class: 1\n",
      "Scaled rule weight: 1.0000\n",
      "\n",
      "RULE 4:\n",
      "Fare > 379.93\n",
      "\n",
      "Class: 1\n",
      "Scaled rule weight: 1.0000\n",
      "\n",
      "RULE 5:\n",
      "Fare <= 7.89\n",
      "Age > 29.85\n",
      "\n",
      "Class: 0\n",
      "Scaled rule weight: 1.0000\n",
      "\n",
      "RULE 6:\n",
      "Age > 18.50\n",
      "8.04 < Fare <= 10.48\n",
      "\n",
      "Class: 0\n",
      "Scaled rule weight: 1.0000\n",
      "\n",
      "RULE 7:\n",
      "Age <= 42.50\n",
      "85.64 < Fare <= 134.64\n",
      "\n",
      "Class: 1\n",
      "Scaled rule weight: 1.0000\n",
      "\n",
      "RULE 8:\n",
      "Age > 2.50\n",
      "Pclass_2 <= 0.50\n",
      "Sex_1 <= 0.50\n",
      "\n",
      "Class: 1\n",
      "Scaled rule weight: 0.5000\n",
      "\n",
      "RULE 9:\n",
      "Fare <= 24.81\n",
      "Pclass_2 > 0.50\n",
      "Sex_1 <= 0.50\n",
      "\n",
      "Class: 1\n",
      "Scaled rule weight: 0.5000\n",
      "\n",
      "RULE 10:\n",
      "Fare > 24.81\n",
      "Pclass_2 > 0.50\n",
      "Sex_1 <= 0.50\n",
      "\n",
      "Class: 0\n",
      "Scaled rule weight: 0.5000\n",
      "\n",
      "RULE 11:\n",
      "Age <= 13.50\n",
      "Fare <= 26.14\n",
      "Sex_1 > 0.50\n",
      "\n",
      "Class: 1\n",
      "Scaled rule weight: 0.5000\n",
      "\n",
      "RULE 12:\n",
      "Age > 13.50\n",
      "Fare <= 26.14\n",
      "Sex_1 > 0.50\n",
      "\n",
      "Class: 0\n",
      "Scaled rule weight: 0.5000\n",
      "\n",
      "RULE 13:\n",
      "SibSp <= 2.50\n",
      "Fare > 26.14\n",
      "Sex_1 > 0.50\n",
      "\n",
      "Class: 0\n",
      "Scaled rule weight: 0.5000\n",
      "\n",
      "RULE 14:\n",
      "SibSp > 2.50\n",
      "Fare > 26.14\n",
      "Sex_1 > 0.50\n",
      "\n",
      "Class: 0\n",
      "Scaled rule weight: 0.5000\n",
      "\n",
      "RULE 15:\n",
      "Age <= 12.00\n",
      "Pclass_1 > 0.50\n",
      "\n",
      "Class: 1\n",
      "Scaled rule weight: 0.5000\n",
      "\n"
     ]
    }
   ],
   "source": [
    "rug.print_rules(feature_names) # print all rules\n",
    "# rug.print_rules(feature_names,range(10)) # print the first x rules"
   ]
  },
  {
   "cell_type": "markdown",
   "id": "7b956c08",
   "metadata": {},
   "source": [
    "### Questions\n",
    "\n",
    "**Q 5.1.2 – Evaluate the global interpretability of the model.**\n",
    "\n",
    "..."
   ]
  },
  {
   "cell_type": "markdown",
   "id": "fb575946",
   "metadata": {},
   "source": [
    "---\n",
    "### LOCAL"
   ]
  },
  {
   "cell_type": "code",
   "execution_count": 62,
   "id": "9d59029d",
   "metadata": {},
   "outputs": [
    {
     "name": "stdout",
     "output_type": "stream",
     "text": [
      "Average number of rules used per sample = 1.26\n",
      "Average rule length per sample = 2.86\n"
     ]
    }
   ],
   "source": [
    "print('Average number of rules used per sample = %.2f' % rug.get_avg_num_rules_per_sample())\n",
    "print('Average rule length per sample = %.2f' % rug.get_avg_rule_length_per_sample())"
   ]
  },
  {
   "cell_type": "code",
   "execution_count": 68,
   "id": "1190660f",
   "metadata": {},
   "outputs": [
    {
     "name": "stdout",
     "output_type": "stream",
     "text": [
      "True and predicted values for sample at index 7:\n",
      "y_test       0\n",
      "lr_pred      0\n",
      "fsdt_pred    0\n",
      "tree_pred    0\n",
      "rug_pred     1\n",
      "Name: 7, dtype: int64\n",
      "\n",
      "\n",
      "----\n",
      "RUG\n",
      "----\n",
      "Instance 7\n",
      "Rules for the instance:\n",
      "\n",
      "RULE 3:\n",
      "Age > 22.00\n",
      "52.28 < Fare <= 59.19\n",
      "\n",
      "Class: 1\n",
      "Scaled rule weight: 1.0000\n",
      "\n",
      "RULE 13:\n",
      "SibSp <= 2.50\n",
      "Fare > 26.14\n",
      "Sex_1 > 0.50\n",
      "\n",
      "Class: 0\n",
      "Scaled rule weight: 0.5000\n",
      "\n",
      "\n",
      " \n",
      "\n"
     ]
    }
   ],
   "source": [
    "i = 7\n",
    "print(f'True and predicted values for sample at index {i}:')\n",
    "print(y_results.loc[i,:])\n",
    "\n",
    "# rules covering that instance\n",
    "print('\\n')\n",
    "print('----\\nRUG\\n----')\n",
    "print(f'Instance {i}')\n",
    "dict_rules, dict_nr_of_rules = rug.get_instance_to_rule_dicts(pd.DataFrame(X_test).index, pd.DataFrame(X_test))\n",
    "rug.print_rules_for_instances([i], dict_rules, feature_names=feature_names)"
   ]
  },
  {
   "cell_type": "markdown",
   "id": "9c43dab8",
   "metadata": {},
   "source": [
    "### Questions\n",
    "\n",
    "**Q 5.1.3 – Take a look at the local explanation for the sample with index 7 of the test set. Explain how the prediction is made.**\n",
    "\n",
    "..."
   ]
  },
  {
   "cell_type": "markdown",
   "id": "a26cc733",
   "metadata": {},
   "source": [
    "## 5.2 Decision Lists\n",
    "\n",
    "We will use another algorithm that generates rules and is implemented in `interpret`. See the documentation here: https://interpret.ml/docs/dr.html. \n",
    "\n",
    "The package uses a wrapper for the algorithm skope-rules from [Gardin et al. (2017)](https://zenodo.org/records/4316671), which is a weighted combination of rules extracted from a tree ensemble using L1-regularized optimization over the weights.\n",
    "\n",
    "Typically, in a decision list, the prediction is made using only the first rule in the list that applies to a sample."
   ]
  },
  {
   "cell_type": "code",
   "execution_count": 69,
   "id": "e70463c8",
   "metadata": {},
   "outputs": [],
   "source": [
    "from interpret.glassbox import DecisionListClassifier"
   ]
  },
  {
   "cell_type": "code",
   "execution_count": 70,
   "id": "bf1968db",
   "metadata": {},
   "outputs": [],
   "source": [
    "dl = DecisionListClassifier(random_state=0, max_depth=3)\n",
    "dl.fit(X_train, y_train)\n",
    "y_results['dl_pred'] = dl.predict(X_test)"
   ]
  },
  {
   "cell_type": "markdown",
   "id": "667c7bf5",
   "metadata": {},
   "source": [
    "## inspect performance"
   ]
  },
  {
   "cell_type": "code",
   "execution_count": 71,
   "id": "b83f8848",
   "metadata": {},
   "outputs": [
    {
     "name": "stdout",
     "output_type": "stream",
     "text": [
      "Confusion matrix : \n",
      " dl_pred   0   1\n",
      "y_test         \n",
      "0        92  18\n",
      "1        21  48\n",
      "\n",
      "Accuracy  = 0.7821\n",
      "F1 score  = 0.7111\n"
     ]
    }
   ],
   "source": [
    "# Confusion matrix\n",
    "cm = pd.crosstab(y_results['y_test'], y_results['dl_pred'])\n",
    "print (\"Confusion matrix : \\n\", cm)\n",
    "\n",
    "print('\\nAccuracy  = %.4f' % accuracy_score(y_results['y_test'], y_results['dl_pred']))\n",
    "print('F1 score  = %.4f' % f1_score(y_results['y_test'], y_results['dl_pred']))"
   ]
  },
  {
   "cell_type": "markdown",
   "id": "ebe33680",
   "metadata": {},
   "source": [
    "### Questions\n",
    "\n",
    "**Q 5.2.1 – Evaluate the model performance.**\n",
    "\n",
    "..."
   ]
  },
  {
   "cell_type": "markdown",
   "id": "bd0f3f2e",
   "metadata": {},
   "source": [
    "## model interpretation\n",
    "---\n",
    "### GLOBAL"
   ]
  },
  {
   "cell_type": "code",
   "execution_count": 72,
   "id": "670a3746",
   "metadata": {},
   "outputs": [],
   "source": [
    "dl_global_expl = dl.explain_global()\n",
    "expl_dict = dl_global_expl.data()"
   ]
  },
  {
   "cell_type": "code",
   "execution_count": 73,
   "id": "33c435b2",
   "metadata": {},
   "outputs": [
    {
     "name": "stdout",
     "output_type": "stream",
     "text": [
      "Number of rules = 20\n",
      "Average rule length = 1.95\n"
     ]
    }
   ],
   "source": [
    "print('Number of rules = %.0f' % (len(dl.rules_)-1))\n",
    "print('Average rule length = %.2f' % np.mean([r.count('and') for r in expl_dict['rule'][:-1]]))"
   ]
  },
  {
   "cell_type": "code",
   "execution_count": 74,
   "id": "53d28ab0",
   "metadata": {},
   "outputs": [
    {
     "data": {
      "text/html": [
       "<!-- http://127.0.0.1:7221/140271753654176/ -->\n",
       "<iframe src=\"http://127.0.0.1:7221/140271753654176/\" width=100% height=800 frameBorder=\"0\"></iframe>"
      ]
     },
     "metadata": {},
     "output_type": "display_data"
    }
   ],
   "source": [
    "show(dl_global_expl)"
   ]
  },
  {
   "cell_type": "markdown",
   "id": "aa28a40d",
   "metadata": {},
   "source": [
    "### Questions\n",
    "\n",
    "**Q 5.2.2 – Evaluate the global interpretability of the model.**\n",
    "\n",
    "..."
   ]
  },
  {
   "cell_type": "markdown",
   "id": "ba4db1ea",
   "metadata": {},
   "source": [
    "---\n",
    "### LOCAL"
   ]
  },
  {
   "cell_type": "code",
   "execution_count": 75,
   "id": "362f48ed",
   "metadata": {},
   "outputs": [
    {
     "data": {
      "text/html": [
       "<!-- http://127.0.0.1:7221/140272828477344/ -->\n",
       "<iframe src=\"http://127.0.0.1:7221/140272828477344/\" width=100% height=800 frameBorder=\"0\"></iframe>"
      ]
     },
     "metadata": {},
     "output_type": "display_data"
    }
   ],
   "source": [
    "show(dl.explain_local(X_test, y_test))"
   ]
  },
  {
   "cell_type": "markdown",
   "id": "14ca58f5",
   "metadata": {},
   "source": [
    "### Questions\n",
    "\n",
    "**Q 5.2.3 – Take a look at the local explanation for the sample with index 2 of the test set. Explain how the prediction is made.**\n",
    "\n",
    "...\n",
    "\n",
    "**Q 5.2.4 – Explain the main difference between RUG and the algorithm here that produces a decision list.**\n",
    "\n",
    "..."
   ]
  }
 ],
 "metadata": {
  "kernelspec": {
   "display_name": "trustworthy_ai_venv",
   "language": "python",
   "name": "trustworthy_ai_venv"
  },
  "language_info": {
   "codemirror_mode": {
    "name": "ipython",
    "version": 3
   },
   "file_extension": ".py",
   "mimetype": "text/x-python",
   "name": "python",
   "nbconvert_exporter": "python",
   "pygments_lexer": "ipython3",
   "version": "3.9.7"
  }
 },
 "nbformat": 4,
 "nbformat_minor": 5
}
